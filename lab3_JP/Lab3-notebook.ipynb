{
 "cells": [
  {
   "cell_type": "markdown",
   "metadata": {},
   "source": [
    " # MTH8408 : Méthodes d'optimisation et contrôle optimal\n",
    " ## Laboratoire 3: Optimisation sans contraintes et méthodes itératives\n",
    "Tangi Migot et Paul Raynaud"
   ]
  },
  {
   "cell_type": "code",
   "execution_count": 13,
   "metadata": {},
   "outputs": [
    {
     "name": "stderr",
     "output_type": "stream",
     "text": [
      "\u001b[32m\u001b[1m  Activating\u001b[22m\u001b[39m project at `~/Documents/code/MTH8408-Hiv24/lab3_JP`\n"
     ]
    },
    {
     "name": "stderr",
     "output_type": "stream",
     "text": [
      "\u001b[32m\u001b[1m   Resolving\u001b[22m\u001b[39m package versions...\n"
     ]
    },
    {
     "name": "stderr",
     "output_type": "stream",
     "text": [
      "\u001b[32m\u001b[1m   Installed\u001b[22m\u001b[39m GR_jll ────────────── v0.73.2+0\n",
      "\u001b[32m\u001b[1m   Installed\u001b[22m\u001b[39m CodecBzip2 ────────── v0.8.2\n",
      "\u001b[32m\u001b[1m   Installed\u001b[22m\u001b[39m ConcurrentUtilities ─ v2.3.1\n"
     ]
    },
    {
     "name": "stderr",
     "output_type": "stream",
     "text": [
      "\u001b[32m\u001b[1m   Installed\u001b[22m\u001b[39m StaticArrays ──────── v1.9.2\n"
     ]
    },
    {
     "name": "stderr",
     "output_type": "stream",
     "text": [
      "\u001b[32m\u001b[1m   Installed\u001b[22m\u001b[39m TranscodingStreams ── v0.10.3\n",
      "\u001b[32m\u001b[1m   Installed\u001b[22m\u001b[39m CodecZlib ─────────── v0.7.4\n",
      "\u001b[32m\u001b[1m   Installed\u001b[22m\u001b[39m StatsBase ─────────── v0.33.21\n"
     ]
    },
    {
     "name": "stderr",
     "output_type": "stream",
     "text": [
      "\u001b[32m\u001b[1m   Installed\u001b[22m\u001b[39m ChainRulesCore ────── v1.21.1\n",
      "\u001b[32m\u001b[1m   Installed\u001b[22m\u001b[39m OpenSSL_jll ───────── v3.0.13+0\n"
     ]
    },
    {
     "name": "stderr",
     "output_type": "stream",
     "text": [
      "\u001b[32m\u001b[1m   Installed\u001b[22m\u001b[39m Plots ─────────────── v1.40.1\n"
     ]
    },
    {
     "name": "stderr",
     "output_type": "stream",
     "text": [
      "\u001b[32m\u001b[1m   Installed\u001b[22m\u001b[39m PGFPlotsX ─────────── v1.6.0\n"
     ]
    },
    {
     "name": "stderr",
     "output_type": "stream",
     "text": [
      "\u001b[32m\u001b[1m   Installed\u001b[22m\u001b[39m GR ────────────────── v0.73.2\n",
      "\u001b[32m\u001b[1m   Installed\u001b[22m\u001b[39m JuMP ──────────────── v1.19.0\n",
      "\u001b[32m\u001b[1m   Installed\u001b[22m\u001b[39m MathOptInterface ──── v1.25.2\n"
     ]
    },
    {
     "name": "stderr",
     "output_type": "stream",
     "text": [
      "\u001b[32m\u001b[1m    Updating\u001b[22m\u001b[39m `~/Documents/code/MTH8408-Hiv24/lab3_JP/Project.toml`\n",
      "  \u001b[90m[54578032] \u001b[39m\u001b[92m+ ADNLPModels v0.7.0\u001b[39m\n",
      "  \u001b[90m[ecbce9bc] \u001b[39m\u001b[92m+ BenchmarkProfiles v0.4.4\u001b[39m\n",
      "  \u001b[90m[6e4b80f9] \u001b[39m\u001b[92m+ BenchmarkTools v1.4.0\u001b[39m\n",
      "  \u001b[90m[7073ff75] \u001b[39m\u001b[92m+ IJulia v1.24.2\u001b[39m\n",
      "  \u001b[90m[10dff2fc] \u001b[39m\u001b[92m+ JSOSolvers v0.11.0\u001b[39m\n",
      "  \u001b[90m[40e66cde] \u001b[39m\u001b[92m+ LDLFactorizations v0.10.1\u001b[39m\n",
      "  \u001b[90m[5c8ed15e] \u001b[39m\u001b[92m+ LinearOperators v2.6.0\u001b[39m\n",
      "  \u001b[90m[a4795742] \u001b[39m\u001b[92m+ NLPModels v0.20.0\u001b[39m\n",
      "  \u001b[90m[792afdf1] \u001b[39m\u001b[92m+ NLPModelsJuMP v0.12.5\u001b[39m\n",
      "  \u001b[90m[5049e819] \u001b[39m\u001b[92m+ OptimizationProblems v0.7.3\u001b[39m\n",
      "  \u001b[90m[581a75fa] \u001b[39m\u001b[92m+ SolverBenchmark v0.6.0\u001b[39m\n",
      "  \u001b[90m[ff4d7338] \u001b[39m\u001b[92m+ SolverCore v0.3.7\u001b[39m\n",
      "\u001b[32m\u001b[1m    Updating\u001b[22m\u001b[39m `~/Documents/code/MTH8408-Hiv24/lab3_JP/Manifest.toml`\n",
      "  \u001b[90m[54578032] \u001b[39m\u001b[92m+ ADNLPModels v0.7.0\u001b[39m\n",
      "  \u001b[90m[14f7f29c] \u001b[39m\u001b[92m+ AMD v0.5.3\u001b[39m\n",
      "  \u001b[90m[1520ce14] \u001b[39m\u001b[92m+ AbstractTrees v0.4.4\u001b[39m\n",
      "  \u001b[90m[dce04be8] \u001b[39m\u001b[92m+ ArgCheck v2.3.0\u001b[39m\n",
      "  \u001b[90m[ecbce9bc] \u001b[39m\u001b[92m+ BenchmarkProfiles v0.4.4\u001b[39m\n",
      "  \u001b[90m[6e4b80f9] \u001b[39m\u001b[92m+ BenchmarkTools v1.4.0\u001b[39m\n",
      "  \u001b[90m[d1d4a3ce] \u001b[39m\u001b[92m+ BitFlags v0.1.8\u001b[39m\n",
      "  \u001b[90m[336ed68f] \u001b[39m\u001b[92m+ CSV v0.10.12\u001b[39m\n",
      "  \u001b[90m[d360d2e6] \u001b[39m\u001b[92m+ ChainRulesCore v1.21.1\u001b[39m\n",
      "  \u001b[90m[523fee87] \u001b[39m\u001b[92m+ CodecBzip2 v0.8.2\u001b[39m\n",
      "  \u001b[90m[944b1d66] \u001b[39m\u001b[92m+ CodecZlib v0.7.4\u001b[39m\n",
      "  \u001b[90m[ffa27691] \u001b[39m\u001b[92m+ ColPack v0.3.0\u001b[39m\n",
      "  \u001b[90m[35d6a980] \u001b[39m\u001b[92m+ ColorSchemes v3.24.0\u001b[39m\n",
      "  \u001b[90m[3da002f7] \u001b[39m\u001b[92m+ ColorTypes v0.11.4\u001b[39m\n",
      "  \u001b[90m[c3611d14] \u001b[39m\u001b[92m+ ColorVectorSpace v0.10.0\u001b[39m\n",
      "  \u001b[90m[5ae59095] \u001b[39m\u001b[92m+ Colors v0.12.10\u001b[39m\n",
      "  \u001b[90m[bbf7d656] \u001b[39m\u001b[92m+ CommonSubexpressions v0.3.0\u001b[39m\n",
      "  \u001b[90m[34da2185] \u001b[39m\u001b[92m+ Compat v4.12.0\u001b[39m\n",
      "  \u001b[90m[f0e56b4a] \u001b[39m\u001b[92m+ ConcurrentUtilities v2.3.1\u001b[39m\n",
      "  \u001b[90m[8f4d0f93] \u001b[39m\u001b[92m+ Conda v1.10.0\u001b[39m\n",
      "  \u001b[90m[d38c429a] \u001b[39m\u001b[92m+ Contour v0.6.2\u001b[39m\n",
      "  \u001b[90m[a8cc5b0e] \u001b[39m\u001b[92m+ Crayons v4.1.1\u001b[39m\n",
      "  \u001b[90m[9a962f9c] \u001b[39m\u001b[92m+ DataAPI v1.16.0\u001b[39m\n",
      "  \u001b[90m[a93c6f00] \u001b[39m\u001b[92m+ DataFrames v1.6.1\u001b[39m\n",
      "  \u001b[90m[864edb3b] \u001b[39m\u001b[92m+ DataStructures v0.18.16\u001b[39m\n",
      "  \u001b[90m[e2d170a0] \u001b[39m\u001b[92m+ DataValueInterfaces v1.0.0\u001b[39m\n",
      "  \u001b[90m[3f0dd361] \u001b[39m\u001b[92m+ DefaultApplication v1.1.0\u001b[39m\n",
      "  \u001b[90m[8bb1440f] \u001b[39m\u001b[92m+ DelimitedFiles v1.9.1\u001b[39m\n",
      "  \u001b[90m[163ba53b] \u001b[39m\u001b[92m+ DiffResults v1.1.0\u001b[39m\n",
      "  \u001b[90m[b552c78f] \u001b[39m\u001b[92m+ DiffRules v1.15.1\u001b[39m\n",
      "  \u001b[90m[ffbed154] \u001b[39m\u001b[92m+ DocStringExtensions v0.9.3\u001b[39m\n",
      "  \u001b[90m[460bff9d] \u001b[39m\u001b[92m+ ExceptionUnwrapping v0.1.10\u001b[39m\n",
      "  \u001b[90m[e2ba6199] \u001b[39m\u001b[92m+ ExprTools v0.1.10\u001b[39m\n",
      "  \u001b[90m[c87230d0] \u001b[39m\u001b[92m+ FFMPEG v0.4.1\u001b[39m\n",
      "  \u001b[90m[9aa1b823] \u001b[39m\u001b[92m+ FastClosures v0.3.2\u001b[39m\n",
      "  \u001b[90m[5789e2e9] \u001b[39m\u001b[92m+ FileIO v1.16.2\u001b[39m\n",
      "  \u001b[90m[48062228] \u001b[39m\u001b[92m+ FilePathsBase v0.9.21\u001b[39m\n",
      "  \u001b[90m[53c48c17] \u001b[39m\u001b[92m+ FixedPointNumbers v0.8.4\u001b[39m\n",
      "  \u001b[90m[59287772] \u001b[39m\u001b[92m+ Formatting v0.4.2\u001b[39m\n",
      "  \u001b[90m[f6369f11] \u001b[39m\u001b[92m+ ForwardDiff v0.10.36\u001b[39m\n",
      "  \u001b[90m[069b7b12] \u001b[39m\u001b[92m+ FunctionWrappers v1.1.3\u001b[39m\n",
      "  \u001b[90m[28b8d3ca] \u001b[39m\u001b[92m+ GR v0.73.2\u001b[39m\n",
      "  \u001b[90m[bc5e4493] \u001b[39m\u001b[92m+ GitHub v5.9.0\u001b[39m\n",
      "  \u001b[90m[42e2da0e] \u001b[39m\u001b[92m+ Grisu v1.0.2\u001b[39m\n",
      "  \u001b[90m[cd3eb016] \u001b[39m\u001b[92m+ HTTP v1.10.1\u001b[39m\n",
      "  \u001b[90m[7073ff75] \u001b[39m\u001b[92m+ IJulia v1.24.2\u001b[39m\n",
      "  \u001b[90m[842dd82b] \u001b[39m\u001b[92m+ InlineStrings v1.4.0\u001b[39m\n",
      "  \u001b[90m[41ab1584] \u001b[39m\u001b[92m+ InvertedIndices v1.3.0\u001b[39m\n",
      "\u001b[33m⌅\u001b[39m \u001b[90m[92d709cd] \u001b[39m\u001b[92m+ IrrationalConstants v0.1.1\u001b[39m\n",
      "  \u001b[90m[82899510] \u001b[39m\u001b[92m+ IteratorInterfaceExtensions v1.0.0\u001b[39m\n",
      "  \u001b[90m[033835bb] \u001b[39m\u001b[92m+ JLD2 v0.4.45\u001b[39m\n",
      "  \u001b[90m[1019f520] \u001b[39m\u001b[92m+ JLFzf v0.1.7\u001b[39m\n",
      "  \u001b[90m[692b3bcd] \u001b[39m\u001b[92m+ JLLWrappers v1.5.0\u001b[39m\n",
      "  \u001b[90m[682c06a0] \u001b[39m\u001b[92m+ JSON v0.21.4\u001b[39m\n",
      "  \u001b[90m[10dff2fc] \u001b[39m\u001b[92m+ JSOSolvers v0.11.0\u001b[39m\n",
      "  \u001b[90m[4076af6c] \u001b[39m\u001b[92m+ JuMP v1.19.0\u001b[39m\n",
      "  \u001b[90m[ba0b0d4f] \u001b[39m\u001b[92m+ Krylov v0.9.5\u001b[39m\n",
      "  \u001b[90m[40e66cde] \u001b[39m\u001b[92m+ LDLFactorizations v0.10.1\u001b[39m\n",
      "  \u001b[90m[b964fa9f] \u001b[39m\u001b[92m+ LaTeXStrings v1.3.1\u001b[39m\n",
      "  \u001b[90m[266f59ce] \u001b[39m\u001b[92m+ LaTeXTabulars v0.1.3\u001b[39m\n",
      "  \u001b[90m[23fbe1c1] \u001b[39m\u001b[92m+ Latexify v0.16.1\u001b[39m\n",
      "  \u001b[90m[1d6d02ad] \u001b[39m\u001b[92m+ LeftChildRightSiblingTrees v0.2.0\u001b[39m\n",
      "  \u001b[90m[5c8ed15e] \u001b[39m\u001b[92m+ LinearOperators v2.6.0\u001b[39m\n",
      "  \u001b[90m[2ab3a3ac] \u001b[39m\u001b[92m+ LogExpFunctions v0.3.26\u001b[39m\n",
      "  \u001b[90m[e6f89c97] \u001b[39m\u001b[92m+ LoggingExtras v1.0.3\u001b[39m\n",
      "  \u001b[90m[1914dd2f] \u001b[39m\u001b[92m+ MacroTools v0.5.13\u001b[39m\n",
      "  \u001b[90m[299715c1] \u001b[39m\u001b[92m+ MarchingCubes v0.1.9\u001b[39m\n",
      "  \u001b[90m[b8f27783] \u001b[39m\u001b[92m+ MathOptInterface v1.25.2\u001b[39m\n",
      "  \u001b[90m[739be429] \u001b[39m\u001b[92m+ MbedTLS v1.1.9\u001b[39m\n",
      "  \u001b[90m[442fdcdd] \u001b[39m\u001b[92m+ Measures v0.3.2\u001b[39m\n",
      "  \u001b[90m[e1d29d7a] \u001b[39m\u001b[92m+ Missings v1.1.0\u001b[39m\n",
      "  \u001b[90m[d8a4904e] \u001b[39m\u001b[92m+ MutableArithmetics v1.4.0\u001b[39m\n",
      "  \u001b[90m[a4795742] \u001b[39m\u001b[92m+ NLPModels v0.20.0\u001b[39m\n",
      "  \u001b[90m[792afdf1] \u001b[39m\u001b[92m+ NLPModelsJuMP v0.12.5\u001b[39m\n",
      "  \u001b[90m[e01155f1] \u001b[39m\u001b[92m+ NLPModelsModifiers v0.6.6\u001b[39m\n",
      "  \u001b[90m[77ba4419] \u001b[39m\u001b[92m+ NaNMath v1.0.2\u001b[39m\n",
      "  \u001b[90m[4d8831e6] \u001b[39m\u001b[92m+ OpenSSL v1.4.1\u001b[39m\n",
      "  \u001b[90m[5049e819] \u001b[39m\u001b[92m+ OptimizationProblems v0.7.3\u001b[39m\n",
      "  \u001b[90m[bac558e1] \u001b[39m\u001b[92m+ OrderedCollections v1.6.3\u001b[39m\n",
      "  \u001b[90m[8314cec4] \u001b[39m\u001b[92m+ PGFPlotsX v1.6.0\u001b[39m\n",
      "  \u001b[90m[d96e819e] \u001b[39m\u001b[92m+ Parameters v0.12.3\u001b[39m\n",
      "  \u001b[90m[69de0a69] \u001b[39m\u001b[92m+ Parsers v2.8.1\u001b[39m\n",
      "  \u001b[90m[b98c9c47] \u001b[39m\u001b[92m+ Pipe v1.3.0\u001b[39m\n",
      "  \u001b[90m[32113eaa] \u001b[39m\u001b[92m+ PkgBenchmark v0.2.12\u001b[39m\n",
      "  \u001b[90m[ccf2f8ad] \u001b[39m\u001b[92m+ PlotThemes v3.1.0\u001b[39m\n",
      "  \u001b[90m[995b91a9] \u001b[39m\u001b[92m+ PlotUtils v1.4.0\u001b[39m\n",
      "  \u001b[90m[91a5bcdd] \u001b[39m\u001b[92m+ Plots v1.40.1\u001b[39m\n",
      "  \u001b[90m[2dfb63ee] \u001b[39m\u001b[92m+ PooledArrays v1.4.3\u001b[39m\n",
      "  \u001b[90m[aea7be01] \u001b[39m\u001b[92m+ PrecompileTools v1.2.0\u001b[39m\n",
      "  \u001b[90m[21216c6a] \u001b[39m\u001b[92m+ Preferences v1.4.1\u001b[39m\n",
      "  \u001b[90m[08abe8d2] \u001b[39m\u001b[92m+ PrettyTables v2.3.1\u001b[39m\n",
      "  \u001b[90m[33c8b6b6] \u001b[39m\u001b[92m+ ProgressLogging v0.1.4\u001b[39m\n",
      "  \u001b[90m[3cdcf5f2] \u001b[39m\u001b[92m+ RecipesBase v1.3.4\u001b[39m\n",
      "  \u001b[90m[01d81517] \u001b[39m\u001b[92m+ RecipesPipeline v0.6.12\u001b[39m\n",
      "  \u001b[90m[189a3867] \u001b[39m\u001b[92m+ Reexport v1.2.2\u001b[39m\n",
      "  \u001b[90m[05181044] \u001b[39m\u001b[92m+ RelocatableFolders v1.0.1\u001b[39m\n",
      "  \u001b[90m[ae029012] \u001b[39m\u001b[92m+ Requires v1.3.0\u001b[39m\n",
      "  \u001b[90m[37e2e3b7] \u001b[39m\u001b[92m+ ReverseDiff v1.15.1\u001b[39m\n",
      "  \u001b[90m[6c6a2e73] \u001b[39m\u001b[92m+ Scratch v1.2.1\u001b[39m\n",
      "  \u001b[90m[91c51154] \u001b[39m\u001b[92m+ SentinelArrays v1.4.1\u001b[39m\n",
      "  \u001b[90m[992d4aef] \u001b[39m\u001b[92m+ Showoff v1.0.3\u001b[39m\n",
      "  \u001b[90m[777ac1f9] \u001b[39m\u001b[92m+ SimpleBufferStream v1.1.0\u001b[39m\n",
      "  \u001b[90m[2133526b] \u001b[39m\u001b[92m+ SodiumSeal v0.1.1\u001b[39m\n",
      "  \u001b[90m[b85f4697] \u001b[39m\u001b[92m+ SoftGlobalScope v1.1.0\u001b[39m\n",
      "  \u001b[90m[581a75fa] \u001b[39m\u001b[92m+ SolverBenchmark v0.6.0\u001b[39m\n",
      "  \u001b[90m[ff4d7338] \u001b[39m\u001b[92m+ SolverCore v0.3.7\u001b[39m\n",
      "  \u001b[90m[b5612192] \u001b[39m\u001b[92m+ SolverTools v0.8.7\u001b[39m\n",
      "  \u001b[90m[a2af1166] \u001b[39m\u001b[92m+ SortingAlgorithms v1.2.1\u001b[39m\n",
      "\u001b[33m⌅\u001b[39m \u001b[90m[276daf66] \u001b[39m\u001b[92m+ SpecialFunctions v1.8.8\u001b[39m\n",
      "  \u001b[90m[90137ffa] \u001b[39m\u001b[92m+ StaticArrays v1.9.2\u001b[39m\n",
      "  \u001b[90m[1e83bf80] \u001b[39m\u001b[92m+ StaticArraysCore v1.4.2\u001b[39m\n",
      "  \u001b[90m[82ae8749] \u001b[39m\u001b[92m+ StatsAPI v1.7.0\u001b[39m\n",
      "\u001b[32m⌃\u001b[39m \u001b[90m[2913bbd2] \u001b[39m\u001b[92m+ StatsBase v0.33.21\u001b[39m\n",
      "  \u001b[90m[892a3eda] \u001b[39m\u001b[92m+ StringManipulation v0.3.4\u001b[39m\n",
      "  \u001b[90m[3783bdb8] \u001b[39m\u001b[92m+ TableTraits v1.0.1\u001b[39m\n",
      "  \u001b[90m[bd369af6] \u001b[39m\u001b[92m+ Tables v1.11.1\u001b[39m\n",
      "  \u001b[90m[62fd8b95] \u001b[39m\u001b[92m+ TensorCore v0.1.1\u001b[39m\n",
      "  \u001b[90m[5d786b92] \u001b[39m\u001b[92m+ TerminalLoggers v0.1.7\u001b[39m\n",
      "  \u001b[90m[a759f4b9] \u001b[39m\u001b[92m+ TimerOutputs v0.5.23\u001b[39m\n",
      "  \u001b[90m[3bb67fe8] \u001b[39m\u001b[92m+ TranscodingStreams v0.10.3\u001b[39m\n",
      "  \u001b[90m[5c2747f8] \u001b[39m\u001b[92m+ URIs v1.5.1\u001b[39m\n",
      "  \u001b[90m[3a884ed6] \u001b[39m\u001b[92m+ UnPack v1.0.2\u001b[39m\n",
      "  \u001b[90m[1cfade01] \u001b[39m\u001b[92m+ UnicodeFun v0.4.1\u001b[39m\n",
      "  \u001b[90m[b8865327] \u001b[39m\u001b[92m+ UnicodePlots v3.6.3\u001b[39m\n",
      "  \u001b[90m[1986cc42] \u001b[39m\u001b[92m+ Unitful v1.19.0\u001b[39m\n",
      "  \u001b[90m[45397f5d] \u001b[39m\u001b[92m+ UnitfulLatexify v1.6.3\u001b[39m\n",
      "  \u001b[90m[41fe7b60] \u001b[39m\u001b[92m+ Unzip v0.2.0\u001b[39m\n",
      "  \u001b[90m[81def892] \u001b[39m\u001b[92m+ VersionParsing v1.3.0\u001b[39m\n",
      "  \u001b[90m[ea10d353] \u001b[39m\u001b[92m+ WeakRefStrings v1.4.2\u001b[39m\n",
      "  \u001b[90m[76eceee3] \u001b[39m\u001b[92m+ WorkerUtilities v1.6.1\u001b[39m\n",
      "  \u001b[90m[c2297ded] \u001b[39m\u001b[92m+ ZMQ v1.2.2\u001b[39m\n",
      "  \u001b[90m[6e34b625] \u001b[39m\u001b[92m+ Bzip2_jll v1.0.8+1\u001b[39m\n",
      "  \u001b[90m[83423d85] \u001b[39m\u001b[92m+ Cairo_jll v1.16.1+1\u001b[39m\n",
      "  \u001b[90m[f218ff0c] \u001b[39m\u001b[92m+ ColPack_jll v0.3.0+0\u001b[39m\n",
      "  \u001b[90m[2702e6a9] \u001b[39m\u001b[92m+ EpollShim_jll v0.0.20230411+0\u001b[39m\n",
      "  \u001b[90m[2e619515] \u001b[39m\u001b[92m+ Expat_jll v2.5.0+0\u001b[39m\n",
      "  \u001b[90m[b22a6f82] \u001b[39m\u001b[92m+ FFMPEG_jll v4.4.4+1\u001b[39m\n",
      "  \u001b[90m[a3f928ae] \u001b[39m\u001b[92m+ Fontconfig_jll v2.13.93+0\u001b[39m\n",
      "  \u001b[90m[d7e528f0] \u001b[39m\u001b[92m+ FreeType2_jll v2.13.1+0\u001b[39m\n",
      "  \u001b[90m[559328eb] \u001b[39m\u001b[92m+ FriBidi_jll v1.0.10+0\u001b[39m\n",
      "  \u001b[90m[0656b61e] \u001b[39m\u001b[92m+ GLFW_jll v3.3.9+0\u001b[39m\n",
      "  \u001b[90m[d2c73de3] \u001b[39m\u001b[92m+ GR_jll v0.73.2+0\u001b[39m\n",
      "  \u001b[90m[78b55507] \u001b[39m\u001b[92m+ Gettext_jll v0.21.0+0\u001b[39m\n",
      "  \u001b[90m[7746bdde] \u001b[39m\u001b[92m+ Glib_jll v2.76.5+0\u001b[39m\n",
      "  \u001b[90m[3b182d85] \u001b[39m\u001b[92m+ Graphite2_jll v1.3.14+0\u001b[39m\n",
      "  \u001b[90m[2e76f6c2] \u001b[39m\u001b[92m+ HarfBuzz_jll v2.8.1+1\u001b[39m\n",
      "  \u001b[90m[aacddb02] \u001b[39m\u001b[92m+ JpegTurbo_jll v3.0.1+0\u001b[39m\n",
      "  \u001b[90m[c1c5ebd0] \u001b[39m\u001b[92m+ LAME_jll v3.100.1+0\u001b[39m\n",
      "  \u001b[90m[88015f11] \u001b[39m\u001b[92m+ LERC_jll v3.0.0+1\u001b[39m\n",
      "  \u001b[90m[1d63c593] \u001b[39m\u001b[92m+ LLVMOpenMP_jll v15.0.7+0\u001b[39m\n",
      "  \u001b[90m[dd4b983a] \u001b[39m\u001b[92m+ LZO_jll v2.10.1+0\u001b[39m\n",
      "\u001b[33m⌅\u001b[39m \u001b[90m[e9f186c6] \u001b[39m\u001b[92m+ Libffi_jll v3.2.2+1\u001b[39m\n",
      "  \u001b[90m[d4300ac3] \u001b[39m\u001b[92m+ Libgcrypt_jll v1.8.7+0\u001b[39m\n",
      "  \u001b[90m[7e76a0d4] \u001b[39m\u001b[92m+ Libglvnd_jll v1.6.0+0\u001b[39m\n",
      "  \u001b[90m[7add5ba3] \u001b[39m\u001b[92m+ Libgpg_error_jll v1.42.0+0\u001b[39m\n",
      "  \u001b[90m[94ce4f54] \u001b[39m\u001b[92m+ Libiconv_jll v1.17.0+0\u001b[39m\n",
      "  \u001b[90m[4b2f31a3] \u001b[39m\u001b[92m+ Libmount_jll v2.35.0+0\u001b[39m\n",
      "\u001b[33m⌅\u001b[39m \u001b[90m[89763e89] \u001b[39m\u001b[92m+ Libtiff_jll v4.5.1+1\u001b[39m\n",
      "  \u001b[90m[38a345b3] \u001b[39m\u001b[92m+ Libuuid_jll v2.36.0+0\u001b[39m\n",
      "  \u001b[90m[e7412a2a] \u001b[39m\u001b[92m+ Ogg_jll v1.3.5+1\u001b[39m\n",
      "  \u001b[90m[458c3c95] \u001b[39m\u001b[92m+ OpenSSL_jll v3.0.13+0\u001b[39m\n",
      "  \u001b[90m[efe28fd5] \u001b[39m\u001b[92m+ OpenSpecFun_jll v0.5.5+0\u001b[39m\n",
      "  \u001b[90m[91d4177d] \u001b[39m\u001b[92m+ Opus_jll v1.3.2+0\u001b[39m\n",
      "  \u001b[90m[30392449] \u001b[39m\u001b[92m+ Pixman_jll v0.42.2+0\u001b[39m\n",
      "  \u001b[90m[c0090381] \u001b[39m\u001b[92m+ Qt6Base_jll v6.5.3+1\u001b[39m\n",
      "  \u001b[90m[a44049a8] \u001b[39m\u001b[92m+ Vulkan_Loader_jll v1.3.243+0\u001b[39m\n",
      "  \u001b[90m[a2964d1f] \u001b[39m\u001b[92m+ Wayland_jll v1.21.0+1\u001b[39m\n",
      "  \u001b[90m[2381bf8a] \u001b[39m\u001b[92m+ Wayland_protocols_jll v1.31.0+0\u001b[39m\n",
      "  \u001b[90m[02c8fc9c] \u001b[39m\u001b[92m+ XML2_jll v2.12.2+0\u001b[39m\n",
      "  \u001b[90m[aed1982a] \u001b[39m"
     ]
    },
    {
     "name": "stderr",
     "output_type": "stream",
     "text": [
      "\u001b[92m+ XSLT_jll v1.1.34+0\u001b[39m\n",
      "  \u001b[90m[ffd25f8a] \u001b[39m\u001b[92m+ XZ_jll v5.4.5+0\u001b[39m\n",
      "  \u001b[90m[f67eecfb] \u001b[39m\u001b[92m+ Xorg_libICE_jll v1.0.10+1\u001b[39m\n",
      "  \u001b[90m[c834827a] \u001b[39m\u001b[92m+ Xorg_libSM_jll v1.2.3+0\u001b[39m\n",
      "  \u001b[90m[4f6342f7] \u001b[39m\u001b[92m+ Xorg_libX11_jll v1.8.6+0\u001b[39m\n",
      "  \u001b[90m[0c0b7dd1] \u001b[39m\u001b[92m+ Xorg_libXau_jll v1.0.11+0\u001b[39m\n",
      "  \u001b[90m[935fb764] \u001b[39m\u001b[92m+ Xorg_libXcursor_jll v1.2.0+4\u001b[39m\n",
      "  \u001b[90m[a3789734] \u001b[39m\u001b[92m+ Xorg_libXdmcp_jll v1.1.4+0\u001b[39m\n",
      "  \u001b[90m[1082639a] \u001b[39m\u001b[92m+ Xorg_libXext_jll v1.3.4+4\u001b[39m\n",
      "  \u001b[90m[d091e8ba] \u001b[39m\u001b[92m+ Xorg_libXfixes_jll v5.0.3+4\u001b[39m\n",
      "  \u001b[90m[a51aa0fd] \u001b[39m\u001b[92m+ Xorg_libXi_jll v1.7.10+4\u001b[39m\n",
      "  \u001b[90m[d1454406] \u001b[39m\u001b[92m+ Xorg_libXinerama_jll v1.1.4+4\u001b[39m\n",
      "  \u001b[90m[ec84b674] \u001b[39m\u001b[92m+ Xorg_libXrandr_jll v1.5.2+4\u001b[39m\n",
      "  \u001b[90m[ea2f1a96] \u001b[39m\u001b[92m+ Xorg_libXrender_jll v0.9.10+4\u001b[39m\n",
      "  \u001b[90m[14d82f49] \u001b[39m\u001b[92m+ Xorg_libpthread_stubs_jll v0.1.1+0\u001b[39m\n",
      "  \u001b[90m[c7cfdc94] \u001b[39m\u001b[92m+ Xorg_libxcb_jll v1.15.0+0\u001b[39m\n",
      "  \u001b[90m[cc61e674] \u001b[39m\u001b[92m+ Xorg_libxkbfile_jll v1.1.2+0\u001b[39m\n",
      "  \u001b[90m[e920d4aa] \u001b[39m\u001b[92m+ Xorg_xcb_util_cursor_jll v0.1.4+0\u001b[39m\n",
      "  \u001b[90m[12413925] \u001b[39m\u001b[92m+ Xorg_xcb_util_image_jll v0.4.0+1\u001b[39m\n",
      "  \u001b[90m[2def613f] \u001b[39m\u001b[92m+ Xorg_xcb_util_jll v0.4.0+1\u001b[39m\n",
      "  \u001b[90m[975044d2] \u001b[39m\u001b[92m+ Xorg_xcb_util_keysyms_jll v0.4.0+1\u001b[39m\n",
      "  \u001b[90m[0d47668e] \u001b[39m\u001b[92m+ Xorg_xcb_util_renderutil_jll v0.3.9+1\u001b[39m\n",
      "  \u001b[90m[c22f9ab0] \u001b[39m\u001b[92m+ Xorg_xcb_util_wm_jll v0.4.1+1\u001b[39m\n",
      "  \u001b[90m[35661453] \u001b[39m\u001b[92m+ Xorg_xkbcomp_jll v1.4.6+0\u001b[39m\n",
      "  \u001b[90m[33bec58e] \u001b[39m\u001b[92m+ Xorg_xkeyboard_config_jll v2.39.0+0\u001b[39m\n",
      "  \u001b[90m[c5fb5394] \u001b[39m\u001b[92m+ Xorg_xtrans_jll v1.5.0+0\u001b[39m\n",
      "  \u001b[90m[8f1865be] \u001b[39m\u001b[92m+ ZeroMQ_jll v4.3.4+0\u001b[39m\n",
      "  \u001b[90m[3161d3a3] \u001b[39m\u001b[92m+ Zstd_jll v1.5.5+0\u001b[39m\n",
      "  \u001b[90m[35ca27e7] \u001b[39m\u001b[92m+ eudev_jll v3.2.9+0\u001b[39m\n",
      "  \u001b[90m[214eeab7] \u001b[39m\u001b[92m+ fzf_jll v0.43.0+0\u001b[39m\n",
      "  \u001b[90m[1a1c6b14] \u001b[39m\u001b[92m+ gperf_jll v3.1.1+0\u001b[39m\n",
      "  \u001b[90m[a4ae2306] \u001b[39m\u001b[92m+ libaom_jll v3.4.0+0\u001b[39m\n",
      "  \u001b[90m[0ac62f75] \u001b[39m\u001b[92m+ libass_jll v0.15.1+0\u001b[39m\n",
      "  \u001b[90m[2db6ffa8] \u001b[39m\u001b[92m+ libevdev_jll v1.11.0+0\u001b[39m\n",
      "  \u001b[90m[f638f0a6] \u001b[39m\u001b[92m+ libfdk_aac_jll v2.0.2+0\u001b[39m\n",
      "  \u001b[90m[36db933b] \u001b[39m\u001b[92m+ libinput_jll v1.18.0+0\u001b[39m\n",
      "  \u001b[90m[b53b4c65] \u001b[39m\u001b[92m+ libpng_jll v1.6.40+0\u001b[39m\n",
      "  \u001b[90m[a9144af2] \u001b[39m\u001b[92m+ libsodium_jll v1.0.20+0\u001b[39m\n",
      "  \u001b[90m[f27f6e37] \u001b[39m\u001b[92m+ libvorbis_jll v1.3.7+1\u001b[39m\n",
      "  \u001b[90m[009596ad] \u001b[39m\u001b[92m+ mtdev_jll v1.1.6+0\u001b[39m\n",
      "  \u001b[90m[1270edf5] \u001b[39m\u001b[92m+ x264_jll v2021.5.5+0\u001b[39m\n",
      "  \u001b[90m[dfaa095f] \u001b[39m\u001b[92m+ x265_jll v3.5.0+0\u001b[39m\n",
      "  \u001b[90m[d8fb68d0] \u001b[39m\u001b[92m+ xkbcommon_jll v1.4.1+1\u001b[39m\n",
      "  \u001b[90m[0dad84c5] \u001b[39m\u001b[92m+ ArgTools v1.1.1\u001b[39m\n",
      "  \u001b[90m[56f22d72] \u001b[39m\u001b[92m+ Artifacts\u001b[39m\n",
      "  \u001b[90m[2a0f44e3] \u001b[39m\u001b[92m+ Base64\u001b[39m\n",
      "  \u001b[90m[ade2ca70] \u001b[39m\u001b[92m+ Dates\u001b[39m\n",
      "  \u001b[90m[f43a241f] \u001b[39m\u001b[92m+ Downloads v1.6.0\u001b[39m\n",
      "  \u001b[90m[7b1f6079] \u001b[39m\u001b[92m+ FileWatching\u001b[39m\n",
      "  \u001b[90m[9fa8497b] \u001b[39m\u001b[92m+ Future\u001b[39m\n",
      "  \u001b[90m[b77e0a4c] \u001b[39m\u001b[92m+ InteractiveUtils\u001b[39m\n",
      "  \u001b[90m[b27032c2] \u001b[39m\u001b[92m+ LibCURL v0.6.4\u001b[39m\n",
      "  \u001b[90m[76f85450] \u001b[39m\u001b[92m+ LibGit2\u001b[39m\n",
      "  \u001b[90m[8f399da3] \u001b[39m\u001b[92m+ Libdl\u001b[39m\n",
      "  \u001b[90m[37e2e46d] \u001b[39m\u001b[92m+ LinearAlgebra\u001b[39m\n",
      "  \u001b[90m[56ddb016] \u001b[39m\u001b[92m+ Logging\u001b[39m\n",
      "  \u001b[90m[d6f4376e] \u001b[39m\u001b[92m+ Markdown\u001b[39m\n",
      "  \u001b[90m[a63ad114] \u001b[39m\u001b[92m+ Mmap\u001b[39m\n",
      "  \u001b[90m[ca575930] \u001b[39m\u001b[92m+ NetworkOptions v1.2.0\u001b[39m\n",
      "  \u001b[90m[44cfe95a] \u001b[39m\u001b[92m+ Pkg v1.10.0\u001b[39m\n",
      "  \u001b[90m[de0858da] \u001b[39m\u001b[92m+ Printf\u001b[39m\n",
      "  \u001b[90m[9abbd945] \u001b[39m\u001b[92m+ Profile\u001b[39m\n",
      "  \u001b[90m[3fa0cd96] \u001b[39m\u001b[92m+ REPL\u001b[39m\n",
      "  \u001b[90m[9a3f8284] \u001b[39m\u001b[92m+ Random\u001b[39m\n",
      "  \u001b[90m[ea8e919c] \u001b[39m\u001b[92m+ SHA v0.7.0\u001b[39m\n",
      "  \u001b[90m[9e88b42a] \u001b[39m\u001b[92m+ Serialization\u001b[39m\n",
      "  \u001b[90m[6462fe0b] \u001b[39m\u001b[92m+ Sockets\u001b[39m\n",
      "  \u001b[90m[2f01184e] \u001b[39m\u001b[92m+ SparseArrays v1.10.0\u001b[39m\n",
      "  \u001b[90m[10745b16] \u001b[39m\u001b[92m+ Statistics v1.10.0\u001b[39m\n",
      "  \u001b[90m[fa267f1f] \u001b[39m\u001b[92m+ TOML v1.0.3\u001b[39m\n",
      "  \u001b[90m[a4e569a6] \u001b[39m\u001b[92m+ Tar v1.10.0\u001b[39m\n",
      "  \u001b[90m[8dfed614] \u001b[39m\u001b[92m+ Test\u001b[39m\n",
      "  \u001b[90m[cf7118a7] \u001b[39m\u001b[92m+ UUIDs\u001b[39m\n",
      "  \u001b[90m[4ec0a83e] \u001b[39m\u001b[92m+ Unicode\u001b[39m\n",
      "  \u001b[90m[e66e0078] \u001b[39m\u001b[92m+ CompilerSupportLibraries_jll v1.0.5+1\u001b[39m\n",
      "  \u001b[90m[deac9b47] \u001b[39m\u001b[92m+ LibCURL_jll v8.4.0+0\u001b[39m\n",
      "  \u001b[90m[e37daf67] \u001b[39m\u001b[92m+ LibGit2_jll v1.6.4+0\u001b[39m\n",
      "  \u001b[90m[29816b5a] \u001b[39m\u001b[92m+ LibSSH2_jll v1.11.0+1\u001b[39m\n",
      "  \u001b[90m[c8ffd9c3] \u001b[39m\u001b[92m+ MbedTLS_jll v2.28.2+1\u001b[39m\n",
      "  \u001b[90m[14a3606d] \u001b[39m\u001b[92m+ MozillaCACerts_jll v2023.1.10\u001b[39m\n",
      "  \u001b[90m[4536629a] \u001b[39m\u001b[92m+ OpenBLAS_jll v0.3.23+2\u001b[39m\n",
      "  \u001b[90m[05823500] \u001b[39m\u001b[92m+ OpenLibm_jll v0.8.1+2\u001b[39m\n",
      "  \u001b[90m[efcefdf7] \u001b[39m\u001b[92m+ PCRE2_jll v10.42.0+1\u001b[39m\n",
      "  \u001b[90m[bea87d4a] \u001b[39m\u001b[92m+ SuiteSparse_jll v7.2.1+1\u001b[39m\n",
      "  \u001b[90m[83775a58] \u001b[39m\u001b[92m+ Zlib_jll v1.2.13+1\u001b[39m\n",
      "  \u001b[90m[8e850b90] \u001b[39m\u001b[92m+ libblastrampoline_jll v5.8.0+1\u001b[39m\n",
      "  \u001b[90m[8e850ede] \u001b[39m\u001b[92m+ nghttp2_jll v1.52.0+1\u001b[39m\n",
      "  \u001b[90m[3f19e933] \u001b[39m\u001b[92m+ p7zip_jll v17.4.0+2\u001b[39m\n",
      "\u001b[36m\u001b[1m        Info\u001b[22m\u001b[39m Packages marked with \u001b[32m⌃\u001b[39m and \u001b[33m⌅\u001b[39m have new versions available. Those with \u001b[32m⌃\u001b[39m may be upgradable, but those with \u001b[33m⌅\u001b[39m are restricted by compatibility constraints from upgrading. To see why use `status --outdated -m`\n"
     ]
    },
    {
     "name": "stderr",
     "output_type": "stream",
     "text": [
      "\u001b[32m\u001b[1mPrecompiling\u001b[22m\u001b[39m project...\n"
     ]
    },
    {
     "name": "stderr",
     "output_type": "stream",
     "text": [
      "\u001b[33m  ✓ \u001b[39m\u001b[90mOpenSSL_jll\u001b[39m\n",
      "\u001b[33m  ✓ \u001b[39m\u001b[90mConcurrentUtilities\u001b[39m\n"
     ]
    },
    {
     "name": "stderr",
     "output_type": "stream",
     "text": [
      "\u001b[33m  ✓ \u001b[39m\u001b[90mTranscodingStreams\u001b[39m\n"
     ]
    },
    {
     "name": "stderr",
     "output_type": "stream",
     "text": [
      "\u001b[33m  ✓ \u001b[39m\u001b[90mTranscodingStreams → TestExt\u001b[39m\n",
      "\u001b[33m  ✓ \u001b[39m\u001b[90mChainRulesCore\u001b[39m\n"
     ]
    },
    {
     "name": "stderr",
     "output_type": "stream",
     "text": [
      "\u001b[33m  ✓ \u001b[39m\u001b[90mCodecBzip2\u001b[39m\n",
      "\u001b[33m  ✓ \u001b[39m\u001b[90mCodecZlib\u001b[39m\n"
     ]
    },
    {
     "name": "stderr",
     "output_type": "stream",
     "text": [
      "\u001b[33m  ✓ \u001b[39m\u001b[90mChainRulesCore → ChainRulesCoreSparseArraysExt\u001b[39m\n"
     ]
    },
    {
     "name": "stderr",
     "output_type": "stream",
     "text": [
      "\u001b[32m  ✓ \u001b[39m\u001b[90mPGFPlotsX\u001b[39m\n"
     ]
    },
    {
     "name": "stderr",
     "output_type": "stream",
     "text": [
      "\u001b[33m  ✓ \u001b[39m\u001b[90mStatsBase\u001b[39m\n",
      "\u001b[33m  ✓ \u001b[39m\u001b[90mGR_jll\u001b[39m\n"
     ]
    },
    {
     "name": "stderr",
     "output_type": "stream",
     "text": [
      "\u001b[32m  ✓ \u001b[39m\u001b[90mPGFPlotsX → ColorsExt\u001b[39m\n"
     ]
    },
    {
     "name": "stderr",
     "output_type": "stream",
     "text": [
      "\u001b[32m  ✓ \u001b[39m\u001b[90mPGFPlotsX → ContourExt\u001b[39m\n"
     ]
    },
    {
     "name": "stderr",
     "output_type": "stream",
     "text": [
      "\u001b[32m  ✓ \u001b[39m\u001b[90mPGFPlotsX → StatsBaseExt\u001b[39m\n"
     ]
    },
    {
     "name": "stderr",
     "output_type": "stream",
     "text": [
      "\u001b[33m  ✓ \u001b[39m\u001b[90mGR\u001b[39m\n"
     ]
    },
    {
     "name": "stderr",
     "output_type": "stream",
     "text": [
      "\u001b[33m  ✓ \u001b[39m\u001b[90mStaticArrays\u001b[39m\n"
     ]
    },
    {
     "name": "stderr",
     "output_type": "stream",
     "text": [
      "\u001b[33m  ✓ \u001b[39m\u001b[90mStaticArrays → StaticArraysStatisticsExt\u001b[39m\n"
     ]
    },
    {
     "name": "stderr",
     "output_type": "stream",
     "text": [
      "\u001b[33m  ✓ \u001b[39m\u001b[90mStaticArrays → StaticArraysChainRulesCoreExt\u001b[39m\n"
     ]
    },
    {
     "name": "stderr",
     "output_type": "stream",
     "text": [
      "\u001b[33m  ✓ \u001b[39m\u001b[90mPlots\u001b[39m\n"
     ]
    },
    {
     "name": "stderr",
     "output_type": "stream",
     "text": [
      "\u001b[33m  ✓ \u001b[39m\u001b[90mPlots → FileIOExt\u001b[39m\n"
     ]
    },
    {
     "name": "stderr",
     "output_type": "stream",
     "text": [
      "\u001b[32m  ✓ \u001b[39m\u001b[90mPlots → UnitfulExt\u001b[39m\n"
     ]
    },
    {
     "name": "stderr",
     "output_type": "stream",
     "text": [
      "\u001b[32m  ✓ \u001b[39m\u001b[90mPlots → IJuliaExt\u001b[39m\n"
     ]
    },
    {
     "name": "stderr",
     "output_type": "stream",
     "text": [
      "\u001b[33m  ✓ \u001b[39m\u001b[90mMathOptInterface\u001b[39m\n"
     ]
    },
    {
     "name": "stderr",
     "output_type": "stream",
     "text": [
      "\u001b[33m  ✓ \u001b[39m\u001b[90mJuMP\u001b[39m\n",
      "  24 dependencies successfully precompiled in 36 seconds. 214 already precompiled.\n",
      "  \u001b[33m18\u001b[39m dependencies precompiled but different versions are currently loaded. Restart julia to access the new versions\n",
      "\u001b[32m\u001b[1m   Resolving\u001b[22m\u001b[39m package versions...\n"
     ]
    },
    {
     "name": "stderr",
     "output_type": "stream",
     "text": [
      "\u001b[32m\u001b[1m  No Changes\u001b[22m\u001b[39m to `~/Documents/code/MTH8408-Hiv24/lab3_JP/Project.toml`\n",
      "\u001b[32m\u001b[1m  No Changes\u001b[22m\u001b[39m to `~/Documents/code/MTH8408-Hiv24/lab3_JP/Manifest.toml`\n"
     ]
    },
    {
     "name": "stderr",
     "output_type": "stream",
     "text": [
      "\u001b[32m\u001b[1m   Resolving\u001b[22m\u001b[39m package versions...\n"
     ]
    },
    {
     "name": "stderr",
     "output_type": "stream",
     "text": [
      "\u001b[32m\u001b[1m    Updating\u001b[22m\u001b[39m `~/Documents/code/MTH8408-Hiv24/lab3_JP/Project.toml`\n",
      "  \u001b[90m[91a5bcdd] \u001b[39m\u001b[92m+ Plots v1.40.1\u001b[39m\n",
      "\u001b[32m\u001b[1m  No Changes\u001b[22m\u001b[39m to `~/Documents/code/MTH8408-Hiv24/lab3_JP/Manifest.toml`\n"
     ]
    },
    {
     "name": "stderr",
     "output_type": "stream",
     "text": [
      "\u001b[32m\u001b[1m   Resolving\u001b[22m\u001b[39m package versions...\n"
     ]
    },
    {
     "name": "stderr",
     "output_type": "stream",
     "text": [
      "\u001b[32m\u001b[1m  No Changes\u001b[22m\u001b[39m to `~/Documents/code/MTH8408-Hiv24/lab3_JP/Project.toml`\n",
      "\u001b[32m\u001b[1m  No Changes\u001b[22m\u001b[39m to `~/Documents/code/MTH8408-Hiv24/lab3_JP/Manifest.toml`\n"
     ]
    },
    {
     "name": "stderr",
     "output_type": "stream",
     "text": [
      "\u001b[32m\u001b[1m   Resolving\u001b[22m\u001b[39m package versions...\n"
     ]
    },
    {
     "name": "stderr",
     "output_type": "stream",
     "text": [
      "\u001b[32m\u001b[1m  No Changes\u001b[22m\u001b[39m to `~/Documents/code/MTH8408-Hiv24/lab3_JP/Project.toml`\n",
      "\u001b[32m\u001b[1m  No Changes\u001b[22m\u001b[39m to `~/Documents/code/MTH8408-Hiv24/lab3_JP/Manifest.toml`\n"
     ]
    },
    {
     "name": "stderr",
     "output_type": "stream",
     "text": [
      "\u001b[32m\u001b[1m   Resolving\u001b[22m\u001b[39m package versions...\n"
     ]
    },
    {
     "name": "stderr",
     "output_type": "stream",
     "text": [
      "\u001b[32m\u001b[1m  No Changes\u001b[22m\u001b[39m to `~/Documents/code/MTH8408-Hiv24/lab3_JP/Project.toml`\n",
      "\u001b[32m\u001b[1m  No Changes\u001b[22m\u001b[39m to `~/Documents/code/MTH8408-Hiv24/lab3_JP/Manifest.toml`\n"
     ]
    },
    {
     "name": "stderr",
     "output_type": "stream",
     "text": [
      "\u001b[32m\u001b[1m   Resolving\u001b[22m\u001b[39m package versions...\n"
     ]
    },
    {
     "name": "stderr",
     "output_type": "stream",
     "text": [
      "\u001b[32m\u001b[1m  No Changes\u001b[22m\u001b[39m to `~/Documents/code/MTH8408-Hiv24/lab3_JP/Project.toml`\n",
      "\u001b[32m\u001b[1m  No Changes\u001b[22m\u001b[39m to `~/Documents/code/MTH8408-Hiv24/lab3_JP/Manifest.toml`\n"
     ]
    },
    {
     "name": "stderr",
     "output_type": "stream",
     "text": [
      "\u001b[32m\u001b[1m   Resolving\u001b[22m\u001b[39m package versions...\n"
     ]
    },
    {
     "name": "stderr",
     "output_type": "stream",
     "text": [
      "\u001b[32m\u001b[1m  No Changes\u001b[22m\u001b[39m to `~/Documents/code/MTH8408-Hiv24/lab3_JP/Project.toml`\n",
      "\u001b[32m\u001b[1m  No Changes\u001b[22m\u001b[39m to `~/Documents/code/MTH8408-Hiv24/lab3_JP/Manifest.toml`\n"
     ]
    },
    {
     "name": "stdout",
     "output_type": "stream",
     "text": [
      "\u001b[32m\u001b[1mStatus\u001b[22m\u001b[39m `~/Documents/code/MTH8408-Hiv24/lab3_JP/Project.toml`\n",
      "  \u001b[90m[54578032] \u001b[39mADNLPModels v0.7.0\n",
      "  \u001b[90m[ecbce9bc] \u001b[39mBenchmarkProfiles v0.4.4\n",
      "  \u001b[90m[6e4b80f9] \u001b[39mBenchmarkTools v1.4.0\n",
      "  \u001b[90m[7073ff75] \u001b[39mIJulia v1.24.2\n",
      "  \u001b[90m[10dff2fc] \u001b[39mJSOSolvers v0.11.0\n",
      "  \u001b[90m[40e66cde] \u001b[39mLDLFactorizations v0.10.1\n",
      "  \u001b[90m[5c8ed15e] \u001b[39mLinearOperators v2.6.0\n",
      "  \u001b[90m[a4795742] \u001b[39mNLPModels v0.20.0\n",
      "  \u001b[90m[792afdf1] \u001b[39mNLPModelsJuMP v0.12.5\n",
      "  \u001b[90m[5049e819] \u001b[39mOptimizationProblems v0.7.3\n",
      "  \u001b[90m[91a5bcdd] \u001b[39mPlots v1.40.1\n",
      "  \u001b[90m[581a75fa] \u001b[39mSolverBenchmark v0.6.0\n",
      "  \u001b[90m[ff4d7338] \u001b[39mSolverCore v0.3.7\n",
      "  \u001b[90m[37e2e46d] \u001b[39mLinearAlgebra\n",
      "  \u001b[90m[de0858da] \u001b[39mPrintf\n"
     ]
    }
   ],
   "source": [
    "using Pkg\n",
    "Pkg.activate(\".\") #Accède au fichier Project.toml\n",
    "Pkg.add(\"LDLFactorizations\")\n",
    "Pkg.add(\"OptimizationProblems\")\n",
    "Pkg.add(\"Plots\")\n",
    "Pkg.add(\"SolverCore\")\n",
    "Pkg.add(\"LinearOperators\")\n",
    "Pkg.add(\"BenchmarkTools\")\n",
    "Pkg.add(\"OptimizationProblems\")\n",
    "Pkg.add(\"NLPModelsJuMP\")\n",
    "Pkg.instantiate()\n",
    "Pkg.status()\n"
   ]
  },
  {
   "cell_type": "code",
   "execution_count": 14,
   "metadata": {},
   "outputs": [],
   "source": [
    "using LinearAlgebra, NLPModels, Printf"
   ]
  },
  {
   "cell_type": "code",
   "execution_count": 15,
   "metadata": {},
   "outputs": [
    {
     "data": {
      "text/plain": [
       "ADNLPModel - Model with automatic differentiation backend ADModelBackend{\n",
       "  ForwardDiffADGradient,\n",
       "  ForwardDiffADHvprod,\n",
       "  EmptyADbackend,\n",
       "  EmptyADbackend,\n",
       "  EmptyADbackend,\n",
       "  ForwardDiffADHessian,\n",
       "  EmptyADbackend,\n",
       "}\n",
       "  Problem name: Generic\n",
       "   All variables: ████████████████████ 2      All constraints: ⋅⋅⋅⋅⋅⋅⋅⋅⋅⋅⋅⋅⋅⋅⋅⋅⋅⋅⋅⋅ 0     \n",
       "            free: ████████████████████ 2                 free: ⋅⋅⋅⋅⋅⋅⋅⋅⋅⋅⋅⋅⋅⋅⋅⋅⋅⋅⋅⋅ 0     \n",
       "           lower: ⋅⋅⋅⋅⋅⋅⋅⋅⋅⋅⋅⋅⋅⋅⋅⋅⋅⋅⋅⋅ 0                lower: ⋅⋅⋅⋅⋅⋅⋅⋅⋅⋅⋅⋅⋅⋅⋅⋅⋅⋅⋅⋅ 0     \n",
       "           upper: ⋅⋅⋅⋅⋅⋅⋅⋅⋅⋅⋅⋅⋅⋅⋅⋅⋅⋅⋅⋅ 0                upper: ⋅⋅⋅⋅⋅⋅⋅⋅⋅⋅⋅⋅⋅⋅⋅⋅⋅⋅⋅⋅ 0     \n",
       "         low/upp: ⋅⋅⋅⋅⋅⋅⋅⋅⋅⋅⋅⋅⋅⋅⋅⋅⋅⋅⋅⋅ 0              low/upp: ⋅⋅⋅⋅⋅⋅⋅⋅⋅⋅⋅⋅⋅⋅⋅⋅⋅⋅⋅⋅ 0     \n",
       "           fixed: ⋅⋅⋅⋅⋅⋅⋅⋅⋅⋅⋅⋅⋅⋅⋅⋅⋅⋅⋅⋅ 0                fixed: ⋅⋅⋅⋅⋅⋅⋅⋅⋅⋅⋅⋅⋅⋅⋅⋅⋅⋅⋅⋅ 0     \n",
       "          infeas: ⋅⋅⋅⋅⋅⋅⋅⋅⋅⋅⋅⋅⋅⋅⋅⋅⋅⋅⋅⋅ 0               infeas: ⋅⋅⋅⋅⋅⋅⋅⋅⋅⋅⋅⋅⋅⋅⋅⋅⋅⋅⋅⋅ 0     \n",
       "            nnzh: (  0.00% sparsity)   3               linear: ⋅⋅⋅⋅⋅⋅⋅⋅⋅⋅⋅⋅⋅⋅⋅⋅⋅⋅⋅⋅ 0     \n",
       "                                                    nonlinear: ⋅⋅⋅⋅⋅⋅⋅⋅⋅⋅⋅⋅⋅⋅⋅⋅⋅⋅⋅⋅ 0     \n",
       "                                                         nnzj: (------% sparsity)         \n",
       "\n",
       "  Counters:\n",
       "             obj: ⋅⋅⋅⋅⋅⋅⋅⋅⋅⋅⋅⋅⋅⋅⋅⋅⋅⋅⋅⋅ 0                 grad: ⋅⋅⋅⋅⋅⋅⋅⋅⋅⋅⋅⋅⋅⋅⋅⋅⋅⋅⋅⋅ 0                 cons: ⋅⋅⋅⋅⋅⋅⋅⋅⋅⋅⋅⋅⋅⋅⋅⋅⋅⋅⋅⋅ 0     \n",
       "        cons_lin: ⋅⋅⋅⋅⋅⋅⋅⋅⋅⋅⋅⋅⋅⋅⋅⋅⋅⋅⋅⋅ 0             cons_nln: ⋅⋅⋅⋅⋅⋅⋅⋅⋅⋅⋅⋅⋅⋅⋅⋅⋅⋅⋅⋅ 0                 jcon: ⋅⋅⋅⋅⋅⋅⋅⋅⋅⋅⋅⋅⋅⋅⋅⋅⋅⋅⋅⋅ 0     \n",
       "           jgrad: ⋅⋅⋅⋅⋅⋅⋅⋅⋅⋅⋅⋅⋅⋅⋅⋅⋅⋅⋅⋅ 0                  jac: ⋅⋅⋅⋅⋅⋅⋅⋅⋅⋅⋅⋅⋅⋅⋅⋅⋅⋅⋅⋅ 0              jac_lin: ⋅⋅⋅⋅⋅⋅⋅⋅⋅⋅⋅⋅⋅⋅⋅⋅⋅⋅⋅⋅ 0     \n",
       "         jac_nln: ⋅⋅⋅⋅⋅⋅⋅⋅⋅⋅⋅⋅⋅⋅⋅⋅⋅⋅⋅⋅ 0                jprod: ⋅⋅⋅⋅⋅⋅⋅⋅⋅⋅⋅⋅⋅⋅⋅⋅⋅⋅⋅⋅ 0            jprod_lin: ⋅⋅⋅⋅⋅⋅⋅⋅⋅⋅⋅⋅⋅⋅⋅⋅⋅⋅⋅⋅ 0     \n",
       "       jprod_nln: ⋅⋅⋅⋅⋅⋅⋅⋅⋅⋅⋅⋅⋅⋅⋅⋅⋅⋅⋅⋅ 0               jtprod: ⋅⋅⋅⋅⋅⋅⋅⋅⋅⋅⋅⋅⋅⋅⋅⋅⋅⋅⋅⋅ 0           jtprod_lin: ⋅⋅⋅⋅⋅⋅⋅⋅⋅⋅⋅⋅⋅⋅⋅⋅⋅⋅⋅⋅ 0     \n",
       "      jtprod_nln: ⋅⋅⋅⋅⋅⋅⋅⋅⋅⋅⋅⋅⋅⋅⋅⋅⋅⋅⋅⋅ 0                 hess: ⋅⋅⋅⋅⋅⋅⋅⋅⋅⋅⋅⋅⋅⋅⋅⋅⋅⋅⋅⋅ 0                hprod: ⋅⋅⋅⋅⋅⋅⋅⋅⋅⋅⋅⋅⋅⋅⋅⋅⋅⋅⋅⋅ 0     \n",
       "           jhess: ⋅⋅⋅⋅⋅⋅⋅⋅⋅⋅⋅⋅⋅⋅⋅⋅⋅⋅⋅⋅ 0               jhprod: ⋅⋅⋅⋅⋅⋅⋅⋅⋅⋅⋅⋅⋅⋅⋅⋅⋅⋅⋅⋅ 0     \n"
      ]
     },
     "metadata": {},
     "output_type": "display_data"
    }
   ],
   "source": [
    "#Test problem:\n",
    "using ADNLPModels\n",
    "fH(x) = (x[2]+x[1].^2-11).^2+(x[1]+x[2].^2-7).^2\n",
    "x0H = [10., 20.]\n",
    "himmelblau = ADNLPModel(fH, x0H)\n",
    "\n",
    "problem2 = ADNLPModel(x->-x[1]^2, ones(3))\n",
    "\n",
    "roz(x) = 100 *  (x[2] - x[1]^2)^2 + (x[1] - 1.0)^2\n",
    "rosenbrock = ADNLPModel(roz, [-1.2, 1.0])\n",
    "\n",
    "f(x) = x[1]^2 * (2*x[1] - 3) - 6*x[1]*x[2] * (x[1] - x[2] - 1)\n",
    "pb_du_cours = ADNLPModel(f, [-1.001, -1.001]) #ou [1.5, .5] ou [.5, .5]"
   ]
  },
  {
   "cell_type": "markdown",
   "metadata": {},
   "source": [
    "## Commentaires sur Julia\n",
    "\n",
    "Quelques commentaires sur des morceaux de codes que vous avez vu:\n",
    "- les structures, exemple [GenericExecutionStats](https://github.com/JuliaSmoothOptimizers/SolverCore.jl/blob/0091f437a26a27ac8aa53d5e37647223722f7f7c/src/stats.jl#L60) (constructeur, attribut, type).\n"
   ]
  },
  {
   "cell_type": "code",
   "execution_count": 16,
   "metadata": {},
   "outputs": [],
   "source": [
    "using SolverCore"
   ]
  },
  {
   "cell_type": "code",
   "execution_count": 11,
   "metadata": {},
   "outputs": [
    {
     "ename": "Base.Meta.ParseError",
     "evalue": "ParseError:\n# Error @ c:\\Users\\jgpal\\OneDrive\\Documents\\GitHub\\MTH8408-Hiv24\\lab3_JP\\Lab3-notebook.ipynb:1:1\n? GenericExecutionStats\n╙ ── not a unary operator",
     "output_type": "error",
     "traceback": [
      "ParseError:\n",
      "# Error @ c:\\Users\\jgpal\\OneDrive\\Documents\\GitHub\\MTH8408-Hiv24\\lab3_JP\\Lab3-notebook.ipynb:1:1\n",
      "? GenericExecutionStats\n",
      "╙ ── not a unary operator\n",
      "\n",
      "Stacktrace:\n",
      " [1] top-level scope\n",
      "   @ c:\\Users\\jgpal\\OneDrive\\Documents\\GitHub\\MTH8408-Hiv24\\lab3_JP\\Lab3-notebook.ipynb:1"
     ]
    }
   ],
   "source": [
    "? GenericExecutionStats"
   ]
  },
  {
   "cell_type": "markdown",
   "metadata": {},
   "source": [
    "- Les arguments dans les fonctions. Lire attentivement [la documentation Julia sur les fonctions](https://docs.julialang.org/en/v1/manual/functions/) pour comprendre l'utilisation des `Optional Arguments` et des `Keywords Arguments`. Ce type d'arguments est très utile dans nos applictions où les solveurs dépendent de paramètre dont on peut fixer des valeurs par défaut."
   ]
  },
  {
   "cell_type": "markdown",
   "metadata": {},
   "source": [
    "## Exercice 1: Méthode BFGS avec mémoire limitée (L-BFGS)"
   ]
  },
  {
   "cell_type": "markdown",
   "metadata": {},
   "source": [
    "Le but de cet exercice est d'implémenter la méthode BFGS à mémoire limitée vue en cours en utilisant les `InverseLBFGSOperator` du package `LinearOperators.jl`. Il y a aussi un petit exemple dans la documentation du package [LinearOperators.jl/dev/tutorial/#Limited-memory-BFGS-and-SR1](https://juliasmoothoptimizers.github.io/LinearOperators.jl/dev/tutorial/#Limited-memory-BFGS-and-SR1)."
   ]
  },
  {
   "cell_type": "code",
   "execution_count": 17,
   "metadata": {},
   "outputs": [],
   "source": [
    "using LinearOperators"
   ]
  },
  {
   "cell_type": "code",
   "execution_count": null,
   "metadata": {},
   "outputs": [],
   "source": [
    "? InverseLBFGSOperator"
   ]
  },
  {
   "cell_type": "markdown",
   "metadata": {},
   "source": [
    "ce qui est important dans ce type de méthode est:\n",
    "- le paramètre mémoire\n",
    "- la mise à jour de l'opérateur avec la fonction `push!`\n",
    "- si on a pas une direction de descente, alors on skip\n",
    "- recherche linéaire d'Armijo"
   ]
  },
  {
   "cell_type": "code",
   "execution_count": null,
   "metadata": {},
   "outputs": [],
   "source": [
    "? LinearOperators.push!"
   ]
  },
  {
   "cell_type": "code",
   "execution_count": 18,
   "metadata": {},
   "outputs": [
    {
     "data": {
      "text/plain": [
       "armijo (generic function with 1 method)"
      ]
     },
     "metadata": {},
     "output_type": "display_data"
    }
   ],
   "source": [
    "function armijo(xk, dk, fk, gk, slope, nlp :: AbstractNLPModel; τ1 = 1.0e-4, t_update = 1.5)\n",
    "  t = 1.0\n",
    "  fk_new = obj(nlp, xk + dk) # t = 1.0\n",
    "  while fk_new > fk + τ1 * t * slope\n",
    "    t /= t_update\n",
    "    fk_new = obj(nlp, xk + t * dk)\n",
    "  end\n",
    "  return t, fk_new\n",
    "end"
   ]
  },
  {
   "cell_type": "code",
   "execution_count": 19,
   "metadata": {},
   "outputs": [
    {
     "name": "stdout",
     "output_type": "stream",
     "text": [
      "[0.7304666891972066, 0.783062357097608, 0.3716146838181852, 0.4192284506402394, 0.7063445246809552, 0.9269182306023327, 0.5609964841270817, 0.09688672725617087, 0.950135726463462, 0.9817747200479161][0.5254269355202098, 0.7542979621619939, 0.36849892382177046, 0.45305569015771285, 0.9196260002120437, 0.5514133847262437, 0.57866122426581, 0.3120809512452992, 0.7239683129072552, 0.6435819316928706]"
     ]
    }
   ],
   "source": [
    "n = Int(10)\n",
    "H = InverseLBFGSOperator(n)\n",
    "v = rand(n)\n",
    "print(H*v)\n",
    "push!(H, rand(n), rand(n))\n",
    "print(H*v)"
   ]
  },
  {
   "cell_type": "code",
   "execution_count": 20,
   "metadata": {},
   "outputs": [
    {
     "data": {
      "text/plain": [
       "limited_bfgs (generic function with 1 method)"
      ]
     },
     "metadata": {},
     "output_type": "display_data"
    }
   ],
   "source": [
    "function limited_bfgs(nlp      :: AbstractNLPModel;\n",
    "                      x        :: AbstractVector = nlp.meta.x0,\n",
    "                      atol     :: Real = √eps(eltype(x)), \n",
    "                      rtol     :: Real = √eps(eltype(x)),\n",
    "                      max_eval :: Int = -1,\n",
    "                      max_time :: Float64 = 30.0,\n",
    "                      f_min    :: Float64 = -1.0e16,\n",
    "                      verbose  :: Bool = true,\n",
    "                      mem      :: Int = 5)\n",
    "  start_time = time()\n",
    "  elapsed_time = 0.0\n",
    "\n",
    "  T = eltype(x)\n",
    "  n = Int(nlp.meta.nvar)\n",
    "\n",
    "  xt = zeros(T, n)\n",
    "  ∇ft = zeros(T, n)\n",
    "\n",
    "  f = obj(nlp, x)\n",
    "  ∇f = grad(nlp, x)\n",
    "#################################################\n",
    "  H = InverseLBFGSOperator(n;mem=mem) ### Use InverseLBFGSOperator instead of I ###\n",
    "#################################################\n",
    "\n",
    "  ∇fNorm = norm(∇f) #nrm2(n, ∇f)\n",
    "  ϵ = atol + rtol * ∇fNorm\n",
    "  iter = 0\n",
    "\n",
    "  @info log_header([:iter, :f, :dual, :slope, :bk], [Int, T, T, T, T],\n",
    "                   hdr_override=Dict(:f=>\"f(x)\", :dual=>\"‖∇f‖\", :slope=>\"∇fᵀd\"))\n",
    "\n",
    "  optimal = ∇fNorm ≤ ϵ\n",
    "  unbdd = f ≤ f_min\n",
    "  tired = neval_obj(nlp) > max_eval ≥ 0 || elapsed_time > max_time\n",
    "  stalled = false\n",
    "  status = :unknown\n",
    "\n",
    "  while !(optimal || tired || stalled || unbdd)\n",
    "\n",
    "#################################################\n",
    "    d = H*∇f ### Compute d\n",
    "    d *= -1\n",
    "#################################################\n",
    "    slope = dot(d, ∇f)\n",
    "    if slope ≥ 0\n",
    "      @error \"not a descent direction\" slope\n",
    "      status = :not_desc\n",
    "      stalled = true\n",
    "      continue\n",
    "    end\n",
    "\n",
    "    # Perform improved Armijo linesearch.\n",
    "    t, ft = armijo(x, d, f, ∇f, slope, nlp)\n",
    "        \n",
    "    @info log_row(Any[iter, f, ∇fNorm, slope, t])\n",
    "\n",
    "    # Update L-BFGS approximation.\n",
    "    xt = x + t * d\n",
    "    ∇ft = grad(nlp, xt) # grad!(nlp, xt, ∇ft)\n",
    "#################################################\n",
    "    st = xt - x\n",
    "    yt = ∇ft -  ∇f\n",
    "    push!(H, st, yt) ### Update H with a new st and yt\n",
    "#################################################\n",
    "\n",
    "    # Move on.\n",
    "    x = xt\n",
    "    f = ft\n",
    "    ∇f = ∇ft\n",
    "\n",
    "    ∇fNorm = norm(∇f) #nrm2(n, ∇f)\n",
    "    iter = iter + 1\n",
    "\n",
    "    optimal = ∇fNorm ≤ ϵ\n",
    "    unbdd = f ≤ f_min\n",
    "    elapsed_time = time() - start_time\n",
    "    tired = neval_obj(nlp) > max_eval ≥ 0 || elapsed_time > max_time\n",
    "  end\n",
    "  @info log_row(Any[iter, f, ∇fNorm])\n",
    "\n",
    "  if optimal\n",
    "    status = :first_order\n",
    "  elseif tired\n",
    "    if neval_obj(nlp) > max_eval ≥ 0\n",
    "      status = :max_eval\n",
    "    elseif elapsed_time > max_time\n",
    "      status = :max_time\n",
    "    end\n",
    "  elseif unbdd\n",
    "        status = :unbounded\n",
    "  end\n",
    "\n",
    "  return GenericExecutionStats(\n",
    "        nlp,\n",
    "        status=status,\n",
    "        solution=x,\n",
    "        objective=f,\n",
    "        dual_feas=∇fNorm,\n",
    "        iter=iter,\n",
    "        elapsed_time=elapsed_time,\n",
    "    )\n",
    "end"
   ]
  },
  {
   "cell_type": "code",
   "execution_count": 21,
   "metadata": {},
   "outputs": [
    {
     "name": "stdout",
     "output_type": "stream",
     "text": [
      "Generic Execution stats\n",
      "  status: first-order stationary\n",
      "  objective value: -0.9999999999999999\n",
      "  primal feasibility: 0.0\n",
      "  dual feasibility: 1.5433145982057473e-8\n",
      "  solution: [0.9999999962625671  -3.1168149972852375e-9]\n",
      "  iterations: 9\n",
      "  elapsed time: 0.03466391563415527\n"
     ]
    },
    {
     "name": "stderr",
     "output_type": "stream",
     "text": [
      "┌ Info:   iter      f(x)      ‖∇f‖      ∇fᵀd        bk  \n",
      "└ @ Main /home/julien/Documents/code/MTH8408-Hiv24/lab3_JP/Lab3-notebook.ipynb:29\n",
      "┌ Info:      0   0.0e+00   4.5e+00  -2.0e+01   8.8e-02\n",
      "└ @ Main /home/julien/Documents/code/MTH8408-Hiv24/lab3_JP/Lab3-notebook.ipynb:55\n",
      "┌ Info:      1  -3.7e-01   4.2e+00  -5.8e-01   1.0e+00\n",
      "└ @ Main /home/julien/Documents/code/MTH8408-Hiv24/lab3_JP/Lab3-notebook.ipynb:55\n",
      "┌ Info:      2  -7.2e-01   1.4e+00  -1.5e-01   1.0e+00\n",
      "└ @ Main /home/julien/Documents/code/MTH8408-Hiv24/lab3_JP/Lab3-notebook.ipynb:55\n",
      "┌ Info:      3  -8.4e-01   9.5e-01  -2.4e-01   1.0e+00\n",
      "└ @ Main /home/julien/Documents/code/MTH8408-Hiv24/lab3_JP/Lab3-notebook.ipynb:55\n",
      "┌ Info:      4  -9.9e-01   3.9e-01  -2.4e-02   1.0e+00\n",
      "└ @ Main /home/julien/Documents/code/MTH8408-Hiv24/lab3_JP/Lab3-notebook.ipynb:55\n",
      "┌ Info:      5  -1.0e+00   6.0e-02  -5.9e-04   1.0e+00\n",
      "└ @ Main /home/julien/Documents/code/MTH8408-Hiv24/lab3_JP/Lab3-notebook.ipynb:55\n",
      "┌ Info:      6  -1.0e+00   4.9e-03  -2.6e-06   1.0e+00\n",
      "└ @ Main /home/julien/Documents/code/MTH8408-Hiv24/lab3_JP/Lab3-notebook.ipynb:55\n",
      "┌ Info:      7  -1.0e+00   4.6e-04  -1.6e-08   1.0e+00\n",
      "└ @ Main /home/julien/Documents/code/MTH8408-Hiv24/lab3_JP/Lab3-notebook.ipynb:55\n",
      "┌ Info:      8  -1.0e+00   1.5e-05  -2.3e-11   1.0e+00\n",
      "└ @ Main /home/julien/Documents/code/MTH8408-Hiv24/lab3_JP/Lab3-notebook.ipynb:55\n",
      "┌ Info:      9  -1.0e+00   1.5e-08\n",
      "└ @ Main /home/julien/Documents/code/MTH8408-Hiv24/lab3_JP/Lab3-notebook.ipynb:79\n"
     ]
    }
   ],
   "source": [
    "#Unit/Validation Tests\n",
    "# Réaliser un test unitaire\n",
    "#Test\n",
    "f(x) = x[1]^2 * (2*x[1] - 3) - 6*x[1]*x[2] * (x[1] - x[2] - 1)\n",
    "x0 = zeros(2)\n",
    "x0[1] = 1.5\n",
    "x0[2] = 0.5\n",
    "nlp = ADNLPModel(f, x0)\n",
    "\n",
    "stats = limited_bfgs(nlp; x = x0)\n",
    "print(stats)\n"
   ]
  },
  {
   "cell_type": "markdown",
   "metadata": {},
   "source": [
    "### Bonus:\n",
    "\n",
    "- Compare l'implémentation de `limited_bfgs` avec la fonction `lbfgs` qui est disponible dans `JSOSolvers.jl`.\n",
    "- On veut pouvoir tester \"facilement\" plusieurs valeurs de $\\tau$ et du paramètre de mise à jour dans `armijo` sur les problèmes tests. Comment modifier le code pour que ça soit possible?\n",
    "\n",
    "On peut mesurer deux executions de fonctions Julia grâce aux fonctions de `BenchmarkTools.jl`:"
   ]
  },
  {
   "cell_type": "code",
   "execution_count": 3,
   "metadata": {},
   "outputs": [
    {
     "name": "stderr",
     "output_type": "stream",
     "text": [
      "\u001b[32m\u001b[1m   Resolving\u001b[22m\u001b[39m package versions...\n"
     ]
    },
    {
     "name": "stderr",
     "output_type": "stream",
     "text": [
      "\u001b[32m\u001b[1m  No Changes\u001b[22m\u001b[39m to `~/Documents/code/MTH8408-Hiv24/lab3_JP/Project.toml`\n",
      "\u001b[32m\u001b[1m  No Changes\u001b[22m\u001b[39m to `~/Documents/code/MTH8408-Hiv24/lab3_JP/Manifest.toml`\n"
     ]
    },
    {
     "name": "stderr",
     "output_type": "stream",
     "text": [
      "\u001b[32m\u001b[1m   Resolving\u001b[22m\u001b[39m package versions...\n"
     ]
    },
    {
     "name": "stderr",
     "output_type": "stream",
     "text": [
      "\u001b[32m\u001b[1m  No Changes\u001b[22m\u001b[39m to `~/Documents/code/MTH8408-Hiv24/lab3_JP/Project.toml`\n",
      "\u001b[32m\u001b[1m  No Changes\u001b[22m\u001b[39m to `~/Documents/code/MTH8408-Hiv24/lab3_JP/Manifest.toml`\n"
     ]
    },
    {
     "name": "stderr",
     "output_type": "stream",
     "text": [
      "\u001b[32m\u001b[1m   Resolving\u001b[22m\u001b[39m package versions...\n"
     ]
    },
    {
     "name": "stderr",
     "output_type": "stream",
     "text": [
      "\u001b[32m\u001b[1m  No Changes\u001b[22m\u001b[39m to `~/Documents/code/MTH8408-Hiv24/lab3_JP/Project.toml`\n",
      "\u001b[32m\u001b[1m  No Changes\u001b[22m\u001b[39m to `~/Documents/code/MTH8408-Hiv24/lab3_JP/Manifest.toml`\n"
     ]
    }
   ],
   "source": [
    "using Pkg\n",
    "using BenchmarkTools\n",
    "using JSOSolvers, NLPModels, OptimizationProblems # \n",
    "using ADNLPModels\n",
    "using SolverBenchmark\n",
    "#using NLPModelsJuMP, SolverBenchmark,  OptimizationProblems.PureJuMP,\n"
   ]
  },
  {
   "cell_type": "code",
   "execution_count": 5,
   "metadata": {},
   "outputs": [
    {
     "ename": "UndefVarError",
     "evalue": "UndefVarError: `AMPGO02` not defined",
     "output_type": "error",
     "traceback": [
      "UndefVarError: `AMPGO02` not defined\n"
     ]
    }
   ],
   "source": [
    "\n",
    "\n",
    "n = 10 # taille des problemes, 4 < n < 101 pour satisfaire skip_if\n",
    "solvers = Dict(\n",
    "  :lbfgs => model -> lbfgs(model),\n",
    "  :limited_bfgs => model -> limited_bfgs(model)\n",
    ") # définition des vos différentes méthodes d'optimisation\n",
    "\n",
    "#problems = (MathOptNLPModel(eval(Meta.parse(problem))(;n), name=problem) for problem ∈ OptimizationProblems.meta[!, :name])\n",
    "ad_problems = (eval(Meta.parse(problem))(;n) for problem ∈ OptimizationProblems.meta[!, :name])\n",
    "\n",
    "stats = bmark_solvers(\n",
    "  solvers, ad_problems,\n",
    "  skipif=prob -> (!unconstrained(prob) || get_nvar(prob) > 100 || get_nvar(prob) < 5),\n",
    ")\n"
   ]
  },
  {
   "cell_type": "code",
   "execution_count": 45,
   "metadata": {},
   "outputs": [
    {
     "name": "stdout",
     "output_type": "stream",
     "text": [
      "Generic Execution stats\n",
      "  status: first-order stationary\n",
      "  objective value: -0.9999999999999999\n",
      "  primal feasibility: 0.0\n",
      "  dual feasibility: 1.5433145982057473e-8\n",
      "  solution: [0.9999999962625671  -3.1168149972852375e-9]\n",
      "  iterations: 9\n",
      "  elapsed time: 0.03587198257446289\n"
     ]
    }
   ],
   "source": [
    "print(stats)"
   ]
  },
  {
   "cell_type": "code",
   "execution_count": 12,
   "metadata": {},
   "outputs": [
    {
     "ename": "MethodError",
     "evalue": "MethodError: no method matching getindex(::GenericExecutionStats{Float64, Vector{Float64}, Vector{Float64}, Any}, ::Symbol)",
     "output_type": "error",
     "traceback": [
      "MethodError: no method matching getindex(::GenericExecutionStats{Float64, Vector{Float64}, Vector{Float64}, Any}, ::Symbol)\n",
      "\n",
      "Stacktrace:\n",
      " [1] top-level scope\n",
      "   @ ~/Documents/code/MTH8408-Hiv24/lab3_JP/Lab3-notebook.ipynb:2"
     ]
    }
   ],
   "source": [
    "for solver ∈ keys(solvers)\n",
    "    pretty_stats(stats[solver][!, cols], hdr_override=header)\n",
    "  end"
   ]
  },
  {
   "cell_type": "code",
   "execution_count": 15,
   "metadata": {},
   "outputs": [
    {
     "name": "stderr",
     "output_type": "stream",
     "text": [
      "┌ Info:            Name    nvar    ncon           status      Time      f(x)      Dual    Primal  \n",
      "└ @ SolverBenchmark /home/julien/.julia/packages/SolverBenchmark/YM13z/src/run_solver.jl:127\n",
      "┌ Info:            NZF1      26       0      first_order   1.1e+00   2.0e+03   9.0e-06   0.0e+00\n",
      "└ @ SolverBenchmark /home/julien/.julia/packages/SolverBenchmark/YM13z/src/run_solver.jl:175\n"
     ]
    },
    {
     "name": "stderr",
     "output_type": "stream",
     "text": [
      "┌ Info:         arglina       6       0      first_order   5.4e-01   3.0e+00   3.1e-16   0.0e+00\n",
      "└ @ SolverBenchmark /home/julien/.julia/packages/SolverBenchmark/YM13z/src/run_solver.jl:175\n",
      "┌ Info:         arglinb       6       0      first_order   4.6e-01   1.3e+00   1.3e-11   0.0e+00\n",
      "└ @ SolverBenchmark /home/julien/.julia/packages/SolverBenchmark/YM13z/src/run_solver.jl:175\n"
     ]
    },
    {
     "name": "stderr",
     "output_type": "stream",
     "text": [
      "┌ Info:         arglinc       6       0      first_order   4.6e-01   4.1e+00   9.1e-13   0.0e+00\n",
      "└ @ SolverBenchmark /home/julien/.julia/packages/SolverBenchmark/YM13z/src/run_solver.jl:175\n",
      "┌ Info:         argtrig       6       0      first_order   4.5e-01  -3.2e+01   7.0e-06   0.0e+00\n",
      "└ @ SolverBenchmark /home/julien/.julia/packages/SolverBenchmark/YM13z/src/run_solver.jl:175\n"
     ]
    },
    {
     "name": "stderr",
     "output_type": "stream",
     "text": [
      "┌ Info:         arwhead       6       0      first_order   4.3e-01   8.9e-15   4.8e-07   0.0e+00\n",
      "└ @ SolverBenchmark /home/julien/.julia/packages/SolverBenchmark/YM13z/src/run_solver.jl:175\n",
      "┌ Info:         bdqrtic       6       0      first_order   4.3e-01   9.7e-01   4.5e-06   0.0e+00\n",
      "└ @ SolverBenchmark /home/julien/.julia/packages/SolverBenchmark/YM13z/src/run_solver.jl:175\n"
     ]
    },
    {
     "name": "stderr",
     "output_type": "stream",
     "text": [
      "┌ Info:          biggs6       6       0         not_desc   5.0e-01  -1.1e+174  1.5e+174   0.0e+00\n",
      "└ @ SolverBenchmark /home/julien/.julia/packages/SolverBenchmark/YM13z/src/run_solver.jl:175\n",
      "┌ Info:         brownal       6       0      first_order   5.0e-01   7.9e-10   5.9e-06   0.0e+00\n",
      "└ @ SolverBenchmark /home/julien/.julia/packages/SolverBenchmark/YM13z/src/run_solver.jl:175\n"
     ]
    },
    {
     "name": "stderr",
     "output_type": "stream",
     "text": [
      "┌ Info:       broyden3d       6       0      first_order   4.4e-01   1.2e-12   6.9e-06   0.0e+00\n",
      "└ @ SolverBenchmark /home/julien/.julia/packages/SolverBenchmark/YM13z/src/run_solver.jl:175\n",
      "┌ Info:        broydn7d       6       0      first_order   6.2e-01   4.5e+00   4.1e-06   0.0e+00\n",
      "└ @ SolverBenchmark /home/julien/.julia/packages/SolverBenchmark/YM13z/src/run_solver.jl:175\n"
     ]
    },
    {
     "name": "stderr",
     "output_type": "stream",
     "text": [
      "┌ Info:          brybnd       6       0      first_order   5.5e-01   4.0e-13   4.8e-06   0.0e+00\n",
      "└ @ SolverBenchmark /home/julien/.julia/packages/SolverBenchmark/YM13z/src/run_solver.jl:175\n",
      "┌ Warning: catenary: number of variables adjusted to be greater or equal to 6\n",
      "└ @ OptimizationProblems.ADNLPProblems /home/julien/.julia/packages/OptimizationProblems/fiJkh/src/ADNLPProblems/catenary.jl:6\n"
     ]
    },
    {
     "name": "stderr",
     "output_type": "stream",
     "text": [
      "┌ Warning: chainwoo: number of variables adjusted to be a multiple of 4\n",
      "└ @ OptimizationProblems.ADNLPProblems /home/julien/.julia/packages/OptimizationProblems/fiJkh/src/ADNLPProblems/chainwoo.jl:4\n",
      "┌ Info:        chnrosnb       6       0      first_order   4.7e-01   6.3e-15   3.2e-06   0.0e+00\n",
      "└ @ SolverBenchmark /home/julien/.julia/packages/SolverBenchmark/YM13z/src/run_solver.jl:175\n"
     ]
    },
    {
     "name": "stderr",
     "output_type": "stream",
     "text": [
      "┌ Warning: clplatea: number of variables adjusted from 6 down to 4\n",
      "└ @ OptimizationProblems.ADNLPProblems /home/julien/.julia/packages/OptimizationProblems/fiJkh/src/ADNLPProblems/clplatea.jl:10\n",
      "┌ Warning: clplateb: number of variables adjusted from 6 down to 4\n",
      "└ @ OptimizationProblems.ADNLPProblems /home/julien/.julia/packages/OptimizationProblems/fiJkh/src/ADNLPProblems/clplateb.jl:10\n",
      "┌ Warning: clplatec: number of variables adjusted from 6 down to 4\n",
      "└ @ OptimizationProblems.ADNLPProblems /home/julien/.julia/packages/OptimizationProblems/fiJkh/src/ADNLPProblems/clplatec.jl:12\n",
      "┌ Info:          cosine       6       0      first_order   4.4e-01  -5.0e+00   9.1e-06   0.0e+00\n",
      "└ @ SolverBenchmark /home/julien/.julia/packages/SolverBenchmark/YM13z/src/run_solver.jl:175\n"
     ]
    },
    {
     "name": "stderr",
     "output_type": "stream",
     "text": [
      "┌ Info:        cragglvy       6       0      first_order   5.0e-01   6.1e-01   6.0e-07   0.0e+00\n",
      "└ @ SolverBenchmark /home/julien/.julia/packages/SolverBenchmark/YM13z/src/run_solver.jl:175\n",
      "┌ Info:       cragglvy2       6       0      first_order   4.7e-01   2.2e-01   8.9e-06   0.0e+00\n",
      "└ @ SolverBenchmark /home/julien/.julia/packages/SolverBenchmark/YM13z/src/run_solver.jl:175\n"
     ]
    },
    {
     "name": "stderr",
     "output_type": "stream",
     "text": [
      "┌ Info:           curly       6       0      first_order   5.8e-01  -6.0e+02   7.4e-06   0.0e+00\n",
      "└ @ SolverBenchmark /home/julien/.julia/packages/SolverBenchmark/YM13z/src/run_solver.jl:175\n",
      "┌ Info:         curly10       6       0      first_order   6.1e-01  -6.0e+02   7.4e-06   0.0e+00\n",
      "└ @ SolverBenchmark /home/julien/.julia/packages/SolverBenchmark/YM13z/src/run_solver.jl:175\n"
     ]
    },
    {
     "name": "stderr",
     "output_type": "stream",
     "text": [
      "┌ Info:         curly20       6       0      first_order   6.1e-01  -6.0e+02   7.4e-06   0.0e+00\n",
      "└ @ SolverBenchmark /home/julien/.julia/packages/SolverBenchmark/YM13z/src/run_solver.jl:175\n",
      "┌ Info:         curly30       6       0      first_order   5.9e-01  -6.0e+02   7.4e-06   0.0e+00\n",
      "└ @ SolverBenchmark /home/julien/.julia/packages/SolverBenchmark/YM13z/src/run_solver.jl:175\n"
     ]
    },
    {
     "name": "stderr",
     "output_type": "stream",
     "text": [
      "┌ Info:        dixmaane       6       0      first_order   6.3e-01   1.0e+00   9.9e-06   0.0e+00\n",
      "└ @ SolverBenchmark /home/julien/.julia/packages/SolverBenchmark/YM13z/src/run_solver.jl:175\n",
      "┌ Info:        dixmaanf       6       0      first_order   5.7e-01   1.0e+00   5.3e-06   0.0e+00\n",
      "└ @ SolverBenchmark /home/julien/.julia/packages/SolverBenchmark/YM13z/src/run_solver.jl:175\n"
     ]
    },
    {
     "name": "stderr",
     "output_type": "stream",
     "text": [
      "┌ Info:        dixmaang       6       0      first_order   4.4e-05   1.0e+00   5.4e-06   0.0e+00\n",
      "└ @ SolverBenchmark /home/julien/.julia/packages/SolverBenchmark/YM13z/src/run_solver.jl:175\n",
      "┌ Info:        dixmaanh       6       0      first_order   6.3e-05   1.0e+00   3.3e-06   0.0e+00\n",
      "└ @ SolverBenchmark /home/julien/.julia/packages/SolverBenchmark/YM13z/src/run_solver.jl:175\n"
     ]
    },
    {
     "name": "stderr",
     "output_type": "stream",
     "text": [
      "┌ Info:        dixmaani       6       0      first_order   6.3e-01   1.0e+00   2.3e-07   0.0e+00\n",
      "└ @ SolverBenchmark /home/julien/.julia/packages/SolverBenchmark/YM13z/src/run_solver.jl:175\n",
      "┌ Info:        dixmaanj       6       0      first_order   5.7e-01   1.0e+00   6.4e-07   0.0e+00\n",
      "└ @ SolverBenchmark /home/julien/.julia/packages/SolverBenchmark/YM13z/src/run_solver.jl:175\n"
     ]
    },
    {
     "name": "stderr",
     "output_type": "stream",
     "text": [
      "┌ Info:        dixmaank       6       0      first_order   9.8e-05   1.0e+00   2.1e-06   0.0e+00\n",
      "└ @ SolverBenchmark /home/julien/.julia/packages/SolverBenchmark/YM13z/src/run_solver.jl:175\n",
      "┌ Info:        dixmaanl       6       0      first_order   5.2e-05   1.0e+00   6.1e-06   0.0e+00\n",
      "└ @ SolverBenchmark /home/julien/.julia/packages/SolverBenchmark/YM13z/src/run_solver.jl:175\n"
     ]
    },
    {
     "name": "stderr",
     "output_type": "stream",
     "text": [
      "┌ Info:        dixmaanm       6       0      first_order   6.1e-01   1.0e+00   8.9e-06   0.0e+00\n",
      "└ @ SolverBenchmark /home/julien/.julia/packages/SolverBenchmark/YM13z/src/run_solver.jl:175\n",
      "┌ Info:        dixmaann       6       0      first_order   6.1e-01   1.0e+00   2.7e-06   0.0e+00\n",
      "└ @ SolverBenchmark /home/julien/.julia/packages/SolverBenchmark/YM13z/src/run_solver.jl:175\n"
     ]
    },
    {
     "name": "stderr",
     "output_type": "stream",
     "text": [
      "┌ Info:        dixmaano       6       0      first_order   5.9e-05   1.0e+00   3.0e-07   0.0e+00\n",
      "└ @ SolverBenchmark /home/julien/.julia/packages/SolverBenchmark/YM13z/src/run_solver.jl:175\n",
      "┌ Info:        dixmaanp       6       0      first_order   5.5e-05   1.0e+00   1.8e-06   0.0e+00\n",
      "└ @ SolverBenchmark /home/julien/.julia/packages/SolverBenchmark/YM13z/src/run_solver.jl:175\n"
     ]
    },
    {
     "name": "stderr",
     "output_type": "stream",
     "text": [
      "┌ Info:        dixon3dq       6       0      first_order   4.3e-01   2.5e-32   1.6e-16   0.0e+00\n",
      "└ @ SolverBenchmark /home/julien/.julia/packages/SolverBenchmark/YM13z/src/run_solver.jl:175\n",
      "┌ Info:         dqdrtic       6       0      first_order   4.0e-01   8.2e-41   1.2e-19   0.0e+00\n",
      "└ @ SolverBenchmark /home/julien/.julia/packages/SolverBenchmark/YM13z/src/run_solver.jl:175\n"
     ]
    },
    {
     "name": "stderr",
     "output_type": "stream",
     "text": [
      "┌ Info:          dqrtic       6       0      first_order   4.2e-01   1.8e-08   4.2e-06   0.0e+00\n",
      "└ @ SolverBenchmark /home/julien/.julia/packages/SolverBenchmark/YM13z/src/run_solver.jl:175\n",
      "┌ Info:         edensch       6       0      first_order   4.5e-01   3.9e+01   9.6e-06   0.0e+00\n",
      "└ @ SolverBenchmark /home/julien/.julia/packages/SolverBenchmark/YM13z/src/run_solver.jl:175\n"
     ]
    },
    {
     "name": "stderr",
     "output_type": "stream",
     "text": [
      "┌ Info:             eg2       6       0      first_order   4.2e-01  -4.9e+00   6.4e-09   0.0e+00\n",
      "└ @ SolverBenchmark /home/julien/.julia/packages/SolverBenchmark/YM13z/src/run_solver.jl:175\n",
      "┌ Info:         engval1       6       0      first_order   4.3e-01   4.7e+00   7.1e-06   0.0e+00\n",
      "└ @ SolverBenchmark /home/julien/.julia/packages/SolverBenchmark/YM13z/src/run_solver.jl:175\n"
     ]
    },
    {
     "name": "stderr",
     "output_type": "stream",
     "text": [
      "┌ Info:            enso       9       0      first_order   5.8e-01   3.9e+02   9.2e-06   0.0e+00\n",
      "└ @ SolverBenchmark /home/julien/.julia/packages/SolverBenchmark/YM13z/src/run_solver.jl:175\n",
      "┌ Info:        errinros       6       0      first_order   4.8e-01   1.3e+00   8.8e-06   0.0e+00\n",
      "└ @ SolverBenchmark /home/julien/.julia/packages/SolverBenchmark/YM13z/src/run_solver.jl:175\n"
     ]
    },
    {
     "name": "stderr",
     "output_type": "stream",
     "text": [
      "┌ Info:        extrosnb       6       0      first_order   4.2e-01   6.3e-11   4.3e-07   0.0e+00\n",
      "└ @ SolverBenchmark /home/julien/.julia/packages/SolverBenchmark/YM13z/src/run_solver.jl:175\n",
      "┌ Info:        fletcbv2       6       0      first_order   4.9e-01  -6.7e-01   1.1e-10   0.0e+00\n",
      "└ @ SolverBenchmark /home/julien/.julia/packages/SolverBenchmark/YM13z/src/run_solver.jl:175\n"
     ]
    },
    {
     "name": "stderr",
     "output_type": "stream",
     "text": [
      "┌ Info:        fletcbv3       6       0      first_order   0.0e+00  -5.5e-06   1.9e-06   0.0e+00\n",
      "└ @ SolverBenchmark /home/julien/.julia/packages/SolverBenchmark/YM13z/src/run_solver.jl:175\n",
      "┌ Info:        fletchcr       6       0      first_order   4.3e-01   5.9e-14   7.2e-06   0.0e+00\n",
      "└ @ SolverBenchmark /home/julien/.julia/packages/SolverBenchmark/YM13z/src/run_solver.jl:175\n"
     ]
    },
    {
     "name": "stderr",
     "output_type": "stream",
     "text": [
      "┌ Warning: fminsrf2: number of variables adjusted from 6 down to 4\n",
      "└ @ OptimizationProblems.ADNLPProblems /home/julien/.julia/packages/OptimizationProblems/fiJkh/src/ADNLPProblems/fminsrf2.jl:8\n",
      "┌ Info:        freuroth       6       0      first_order   4.9e-01   2.6e+02   1.3e-06   0.0e+00\n",
      "└ @ SolverBenchmark /home/julien/.julia/packages/SolverBenchmark/YM13z/src/run_solver.jl:175\n"
     ]
    },
    {
     "name": "stderr",
     "output_type": "stream",
     "text": [
      "┌ Info:          gauss1       8       0      first_order   5.1e-01   6.6e+02   9.7e-06   0.0e+00\n",
      "└ @ SolverBenchmark /home/julien/.julia/packages/SolverBenchmark/YM13z/src/run_solver.jl:175\n",
      "┌ Info:          gauss2       8       0      first_order   4.7e-01   6.2e+02   7.7e-06   0.0e+00\n",
      "└ @ SolverBenchmark /home/julien/.julia/packages/SolverBenchmark/YM13z/src/run_solver.jl:175\n"
     ]
    },
    {
     "name": "stderr",
     "output_type": "stream",
     "text": [
      "┌ Info:          gauss3       8       0         not_desc   5.0e-01   6.2e+02   3.3e-05   0.0e+00\n",
      "└ @ SolverBenchmark /home/julien/.julia/packages/SolverBenchmark/YM13z/src/run_solver.jl:175\n",
      "┌ Info:        genhumps       6       0      first_order   4.7e-01   4.9e-11   4.4e-06   0.0e+00\n",
      "└ @ SolverBenchmark /home/julien/.julia/packages/SolverBenchmark/YM13z/src/run_solver.jl:175\n"
     ]
    },
    {
     "name": "stderr",
     "output_type": "stream",
     "text": [
      "┌ Info:         genrose       6       0      first_order   4.6e-01   1.0e+00   4.7e-06   0.0e+00\n",
      "└ @ SolverBenchmark /home/julien/.julia/packages/SolverBenchmark/YM13z/src/run_solver.jl:175\n",
      "┌ Info:    genrose_nash       6       0      first_order   5.3e-01   1.0e+00   7.5e-08   0.0e+00\n",
      "└ @ SolverBenchmark /home/julien/.julia/packages/SolverBenchmark/YM13z/src/run_solver.jl:175\n"
     ]
    },
    {
     "name": "stderr",
     "output_type": "stream",
     "text": [
      "┌ Info:           hahn1       7       0         not_desc   5.0e-01   7.7e-01   2.1e-03   0.0e+00\n",
      "└ @ SolverBenchmark /home/julien/.julia/packages/SolverBenchmark/YM13z/src/run_solver.jl:175\n",
      "┌ Info:           indef       6       0      first_order   4.9e-01  -6.0e+02   5.7e-06   0.0e+00\n",
      "└ @ SolverBenchmark /home/julien/.julia/packages/SolverBenchmark/YM13z/src/run_solver.jl:175\n"
     ]
    },
    {
     "name": "stderr",
     "output_type": "stream",
     "text": [
      "┌ Info:        integreq       6       0      first_order   6.8e-01   1.2e-11   6.1e-06   0.0e+00\n",
      "└ @ SolverBenchmark /home/julien/.julia/packages/SolverBenchmark/YM13z/src/run_solver.jl:175\n",
      "┌ Info:          kirby2       5       0      first_order   4.5e-01   2.0e+00   1.0e-05   0.0e+00\n",
      "└ @ SolverBenchmark /home/julien/.julia/packages/SolverBenchmark/YM13z/src/run_solver.jl:175\n"
     ]
    },
    {
     "name": "stderr",
     "output_type": "stream",
     "text": [
      "┌ Info:        lanczos1       6       0      first_order   4.5e-01   1.0e-06   7.0e-06   0.0e+00\n",
      "└ @ SolverBenchmark /home/julien/.julia/packages/SolverBenchmark/YM13z/src/run_solver.jl:175\n",
      "┌ Info:        lanczos2       6       0      first_order   4.5e-01   1.1e-06   7.0e-06   0.0e+00\n",
      "└ @ SolverBenchmark /home/julien/.julia/packages/SolverBenchmark/YM13z/src/run_solver.jl:175\n"
     ]
    },
    {
     "name": "stderr",
     "output_type": "stream",
     "text": [
      "┌ Info:        lanczos3       6       0      first_order   4.2e-01   1.2e-06   8.0e-06   0.0e+00\n",
      "└ @ SolverBenchmark /home/julien/.julia/packages/SolverBenchmark/YM13z/src/run_solver.jl:175\n",
      "┌ Info:         liarwhd       6       0      first_order   3.9e-01   4.0e-15   2.1e-07   0.0e+00\n",
      "└ @ SolverBenchmark /home/julien/.julia/packages/SolverBenchmark/YM13z/src/run_solver.jl:175\n"
     ]
    },
    {
     "name": "stderr",
     "output_type": "stream",
     "text": [
      "┌ Info:           mgh17       5       0      first_order   4.6e-01   5.5e-02   1.6e-06   0.0e+00\n",
      "└ @ SolverBenchmark /home/julien/.julia/packages/SolverBenchmark/YM13z/src/run_solver.jl:175\n",
      "┌ Info:          morebv       6       0      first_order   5.0e-01   2.9e-17   2.3e-09   0.0e+00\n",
      "└ @ SolverBenchmark /home/julien/.julia/packages/SolverBenchmark/YM13z/src/run_solver.jl:175\n"
     ]
    },
    {
     "name": "stderr",
     "output_type": "stream",
     "text": [
      "┌ Warning: ncb20: number of variables must be ≥ 31\n",
      "└ @ OptimizationProblems.ADNLPProblems /home/julien/.julia/packages/OptimizationProblems/fiJkh/src/ADNLPProblems/ncb20.jl:4\n",
      "┌ Info:           ncb20      31       0      first_order   8.5e-01   4.4e+01   3.4e-14   0.0e+00\n",
      "└ @ SolverBenchmark /home/julien/.julia/packages/SolverBenchmark/YM13z/src/run_solver.jl:175\n"
     ]
    },
    {
     "name": "stderr",
     "output_type": "stream",
     "text": [
      "┌ Warning: ncb20b: number of variables must be ≥ 20\n",
      "└ @ OptimizationProblems.ADNLPProblems /home/julien/.julia/packages/OptimizationProblems/fiJkh/src/ADNLPProblems/ncb20b.jl:4\n",
      "┌ Info:          ncb20b      20       0      first_order   7.4e-01   4.0e+01   6.7e-07   0.0e+00\n",
      "└ @ SolverBenchmark /home/julien/.julia/packages/SolverBenchmark/YM13z/src/run_solver.jl:175\n"
     ]
    },
    {
     "name": "stderr",
     "output_type": "stream",
     "text": [
      "┌ Info:        noncvxu2       6       0      first_order   4.6e-01   1.4e+01   9.8e-06   0.0e+00\n",
      "└ @ SolverBenchmark /home/julien/.julia/packages/SolverBenchmark/YM13z/src/run_solver.jl:175\n",
      "┌ Info:        noncvxun       6       0      first_order   4.6e-01   1.4e+01   8.1e-06   0.0e+00\n",
      "└ @ SolverBenchmark /home/julien/.julia/packages/SolverBenchmark/YM13z/src/run_solver.jl:175\n"
     ]
    },
    {
     "name": "stderr",
     "output_type": "stream",
     "text": [
      "┌ Info:          nondia       6       0      first_order   4.6e-01   9.9e-29   6.0e-13   0.0e+00\n",
      "└ @ SolverBenchmark /home/julien/.julia/packages/SolverBenchmark/YM13z/src/run_solver.jl:175\n",
      "┌ Info:        nondquar       6       0      first_order   4.6e-01   1.3e-07   8.0e-06   0.0e+00\n",
      "└ @ SolverBenchmark /home/julien/.julia/packages/SolverBenchmark/YM13z/src/run_solver.jl:175\n"
     ]
    },
    {
     "name": "stderr",
     "output_type": "stream",
     "text": [
      "┌ Info:        osborne1       5       0      first_order   4.0e-01   2.8e-05   9.4e-06   0.0e+00\n",
      "└ @ SolverBenchmark /home/julien/.julia/packages/SolverBenchmark/YM13z/src/run_solver.jl:175\n",
      "┌ Info:        osborne2      11       0      first_order   5.5e-01   2.0e-02   5.4e-06   0.0e+00\n",
      "└ @ SolverBenchmark /home/julien/.julia/packages/SolverBenchmark/YM13z/src/run_solver.jl:175\n"
     ]
    },
    {
     "name": "stderr",
     "output_type": "stream",
     "text": [
      "┌ Info:        palmer1c       8       0      first_order   6.0e-01   4.9e-02   9.9e-09   0.0e+00\n",
      "└ @ SolverBenchmark /home/julien/.julia/packages/SolverBenchmark/YM13z/src/run_solver.jl:175\n",
      "┌ Info:        palmer1d       7       0      first_order   5.8e-01   3.3e-01   1.9e-09   0.0e+00\n",
      "└ @ SolverBenchmark /home/julien/.julia/packages/SolverBenchmark/YM13z/src/run_solver.jl:175\n"
     ]
    },
    {
     "name": "stderr",
     "output_type": "stream",
     "text": [
      "┌ Info:        palmer2c       8       0      first_order   6.2e-01   7.2e-03   2.3e-06   0.0e+00\n",
      "└ @ SolverBenchmark /home/julien/.julia/packages/SolverBenchmark/YM13z/src/run_solver.jl:175\n",
      "┌ Info:        palmer3c       8       0      first_order   9.3e-01   9.8e-03   9.2e-06   0.0e+00\n",
      "└ @ SolverBenchmark /home/julien/.julia/packages/SolverBenchmark/YM13z/src/run_solver.jl:175\n"
     ]
    },
    {
     "name": "stderr",
     "output_type": "stream",
     "text": [
      "┌ Info:        palmer4c       8       0      first_order   9.0e-01   2.9e-02   5.4e-08   0.0e+00\n",
      "└ @ SolverBenchmark /home/julien/.julia/packages/SolverBenchmark/YM13z/src/run_solver.jl:175\n",
      "┌ Info:        palmer5c       6       0      first_order   5.7e-01   1.1e+00   9.2e-07   0.0e+00\n",
      "└ @ SolverBenchmark /home/julien/.julia/packages/SolverBenchmark/YM13z/src/run_solver.jl:175\n"
     ]
    },
    {
     "name": "stderr",
     "output_type": "stream",
     "text": [
      "┌ Info:        palmer6c       8       0      first_order   6.0e-01   8.2e-03   7.8e-09   0.0e+00\n",
      "└ @ SolverBenchmark /home/julien/.julia/packages/SolverBenchmark/YM13z/src/run_solver.jl:175\n",
      "┌ Info:        palmer7c       8       0      first_order   6.3e-01   3.0e-01   6.7e-06   0.0e+00\n",
      "└ @ SolverBenchmark /home/julien/.julia/packages/SolverBenchmark/YM13z/src/run_solver.jl:175\n"
     ]
    },
    {
     "name": "stderr",
     "output_type": "stream",
     "text": [
      "┌ Info:        palmer8c       8       0      first_order   6.1e-01   8.0e-02   9.3e-07   0.0e+00\n",
      "└ @ SolverBenchmark /home/julien/.julia/packages/SolverBenchmark/YM13z/src/run_solver.jl:175\n",
      "┌ Info:        penalty1       6       0      first_order   5.0e-01   2.0e-05   9.8e-06   0.0e+00\n",
      "└ @ SolverBenchmark /home/julien/.julia/packages/SolverBenchmark/YM13z/src/run_solver.jl:175\n"
     ]
    },
    {
     "name": "stderr",
     "output_type": "stream",
     "text": [
      "┌ Info:        penalty2       6       0      first_order   5.8e-01   4.2e-05   3.0e-06   0.0e+00\n",
      "└ @ SolverBenchmark /home/julien/.julia/packages/SolverBenchmark/YM13z/src/run_solver.jl:175\n",
      "┌ Info:        penalty3       6       0      first_order   6.9e-01   1.5e+02   1.8e-06   0.0e+00\n",
      "└ @ SolverBenchmark /home/julien/.julia/packages/SolverBenchmark/YM13z/src/run_solver.jl:175\n"
     ]
    },
    {
     "name": "stderr",
     "output_type": "stream",
     "text": [
      "┌ Warning: powellsg: number of variables adjusted to be a multiple of 4\n",
      "└ @ OptimizationProblems.ADNLPProblems /home/julien/.julia/packages/OptimizationProblems/fiJkh/src/ADNLPProblems/powellsg.jl:4\n",
      "┌ Info:           power       6       0      first_order   4.5e-01   2.5e-08   7.1e-06   0.0e+00\n",
      "└ @ SolverBenchmark /home/julien/.julia/packages/SolverBenchmark/YM13z/src/run_solver.jl:175\n"
     ]
    },
    {
     "name": "stderr",
     "output_type": "stream",
     "text": [
      "┌ Info:          quartc       6       0      first_order   4.1e-01   1.8e-08   4.2e-06   0.0e+00\n",
      "└ @ SolverBenchmark /home/julien/.julia/packages/SolverBenchmark/YM13z/src/run_solver.jl:175\n"
     ]
    },
    {
     "ename": "MethodError",
     "evalue": "MethodError: objects of type ADNLPModel{Float64, Vector{Float64}, Vector{Int64}} are not callable",
     "output_type": "error",
     "traceback": [
      "MethodError: objects of type ADNLPModel{Float64, Vector{Float64}, Vector{Int64}} are not callable\n",
      "\n",
      "Stacktrace:\n",
      " [1] (::var\"#24#25\")(problem::String)\n",
      "   @ Main ./none:0\n",
      " [2] iterate\n",
      "   @ ./generator.jl:47 [inlined]\n",
      " [3] iterate\n",
      "   @ ./iterators.jl:206 [inlined]\n",
      " [4] solve_problems(solver::var\"#27#29\", problems::Base.Generator{Vector{String}, var\"#24#25\"}; solver_logger::Base.CoreLogging.NullLogger, reset_problem::Bool, skipif::var\"#30#31\", colstats::Vector{Symbol}, info_hdr_override::Dict{Symbol, String}, prune::Bool, kwargs::@Kwargs{})\n",
      "   @ SolverBenchmark ~/.julia/packages/SolverBenchmark/YM13z/src/run_solver.jl:176\n",
      " [5] bmark_solvers(solvers::Dict{Symbol, Function}, args::Base.Generator{Vector{String}, var\"#24#25\"}; kwargs::@Kwargs{skipif::var\"#30#31\"})\n",
      "   @ SolverBenchmark ~/.julia/packages/SolverBenchmark/YM13z/src/bmark_solvers.jl:22\n",
      " [6] top-level scope\n",
      "   @ ~/Documents/code/MTH8408-Hiv24/lab3_JP/Lab3-notebook.ipynb:11"
     ]
    }
   ],
   "source": [
    "using ADNLPModels\n",
    "n=6\n",
    "ad_problems = (eval(Meta.parse(problem))(;n) for problem ∈ OptimizationProblems.meta[!, :name])\n",
    "\n",
    "\n",
    "solvers = Dict(\n",
    "  :lbfgs => model -> lbfgs(model, mem=5, atol=1e-5, rtol=0.0),\n",
    "  :trunk => model -> trunk(model, atol=1e-5, rtol=0.0),\n",
    ")\n",
    "\n",
    "stats = bmark_solvers(\n",
    "  solvers, ad_problems,\n",
    "  skipif=prob -> (!unconstrained(prob) || get_nvar(prob) > 100 || get_nvar(prob) < 5),\n",
    ")"
   ]
  },
  {
   "cell_type": "code",
   "execution_count": 19,
   "metadata": {},
   "outputs": [
    {
     "name": "stdout",
     "output_type": "stream",
     "text": [
      "Generic Execution stats\n",
      "  status: first-order stationary\n",
      "  objective value: -0.9999999999999999\n",
      "  primal feasibility: 0.0\n",
      "  dual feasibility: 1.5433145982057473e-8\n",
      "  solution: [0.9999999962625671  -3.1168149972852375e-9]\n",
      "  iterations: 9\n",
      "  elapsed time: 0.029406070709228516\n"
     ]
    },
    {
     "name": "stderr",
     "output_type": "stream",
     "text": [
      "┌ Info:   iter      f(x)      ‖∇f‖      ∇fᵀd        bk  \n",
      "└ @ Main /home/julien/Documents/code/MTH8408-Hiv24/lab3_JP/Lab3-notebook.ipynb:29\n",
      "┌ Info:      0   0.0e+00   4.5e+00  -2.0e+01   8.8e-02\n",
      "└ @ Main /home/julien/Documents/code/MTH8408-Hiv24/lab3_JP/Lab3-notebook.ipynb:55\n",
      "┌ Info:      1  -3.7e-01   4.2e+00  -5.8e-01   1.0e+00\n",
      "└ @ Main /home/julien/Documents/code/MTH8408-Hiv24/lab3_JP/Lab3-notebook.ipynb:55\n",
      "┌ Info:      2  -7.2e-01   1.4e+00  -1.5e-01   1.0e+00\n",
      "└ @ Main /home/julien/Documents/code/MTH8408-Hiv24/lab3_JP/Lab3-notebook.ipynb:55\n",
      "┌ Info:      3  -8.4e-01   9.5e-01  -2.4e-01   1.0e+00\n",
      "└ @ Main /home/julien/Documents/code/MTH8408-Hiv24/lab3_JP/Lab3-notebook.ipynb:55\n",
      "┌ Info:      4  -9.9e-01   3.9e-01  -2.4e-02   1.0e+00\n",
      "└ @ Main /home/julien/Documents/code/MTH8408-Hiv24/lab3_JP/Lab3-notebook.ipynb:55\n",
      "┌ Info:      5  -1.0e+00   6.0e-02  -5.9e-04   1.0e+00\n",
      "└ @ Main /home/julien/Documents/code/MTH8408-Hiv24/lab3_JP/Lab3-notebook.ipynb:55\n",
      "┌ Info:      6  -1.0e+00   4.9e-03  -2.6e-06   1.0e+00\n",
      "└ @ Main /home/julien/Documents/code/MTH8408-Hiv24/lab3_JP/Lab3-notebook.ipynb:55\n",
      "┌ Info:      7  -1.0e+00   4.6e-04  -1.6e-08   1.0e+00\n",
      "└ @ Main /home/julien/Documents/code/MTH8408-Hiv24/lab3_JP/Lab3-notebook.ipynb:55\n",
      "┌ Info:      8  -1.0e+00   1.5e-05  -2.3e-11   1.0e+00\n",
      "└ @ Main /home/julien/Documents/code/MTH8408-Hiv24/lab3_JP/Lab3-notebook.ipynb:55\n",
      "┌ Info:      9  -1.0e+00   1.5e-08\n",
      "└ @ Main /home/julien/Documents/code/MTH8408-Hiv24/lab3_JP/Lab3-notebook.ipynb:79\n"
     ]
    }
   ],
   "source": [
    "# tester avec BenchmarkTools\n",
    "\n",
    "# Réaliser un test unitaire\n",
    "#Test\n",
    "f(x) = x[1]^2 * (2*x[1] - 3) - 6*x[1]*x[2] * (x[1] - x[2] - 1)\n",
    "x0 = zeros(2)\n",
    "x0[1] = 1.5\n",
    "x0[2] = 0.5\n",
    "nlp = ADNLPModel(f, x0)\n",
    "\n",
    "stats = limited_bfgs(nlp; x = x0)\n",
    "print(stats)\n",
    "\n",
    "\n"
   ]
  },
  {
   "cell_type": "code",
   "execution_count": 24,
   "metadata": {},
   "outputs": [
    {
     "name": "stdout",
     "output_type": "stream",
     "text": [
      "-1.0[1.000000001320145, 4.607778059618698e-10]11"
     ]
    }
   ],
   "source": [
    "stats = lbfgs(nlp)\n",
    "print(stats.objective, stats.solution, stats.iter)"
   ]
  },
  {
   "cell_type": "code",
   "execution_count": 16,
   "metadata": {},
   "outputs": [
    {
     "ename": "Base.Meta.ParseError",
     "evalue": "ParseError:\n# Error @ c:\\Users\\jgpal\\OneDrive\\Documents\\GitHub\\MTH8408-Hiv24\\lab3_JP\\Lab3-notebook.ipynb:2:2\n\r\n! ? @time\n#└┘ ── not a unary operator",
     "output_type": "error",
     "traceback": [
      "ParseError:\n",
      "# Error @ c:\\Users\\jgpal\\OneDrive\\Documents\\GitHub\\MTH8408-Hiv24\\lab3_JP\\Lab3-notebook.ipynb:2:2\n",
      "\r\n",
      "! ? @time\n",
      "#└┘ ── not a unary operator\n",
      "\n",
      "Stacktrace:\n",
      " [1] top-level scope\n",
      "   @ c:\\Users\\jgpal\\OneDrive\\Documents\\GitHub\\MTH8408-Hiv24\\lab3_JP\\Lab3-notebook.ipynb:2"
     ]
    }
   ],
   "source": [
    "? @time"
   ]
  },
  {
   "cell_type": "markdown",
   "metadata": {},
   "source": [
    "## Exercice 2: NewtonCG"
   ]
  },
  {
   "cell_type": "markdown",
   "metadata": {},
   "source": [
    "Le but de cet exercice est d'adapter les méthodes de Newton de façon à résoudre le système linéaire avec une méthode itérative de type gradient conjugué comme suit ($B_k$ représente la matrice hessienne):"
   ]
  },
  {
   "cell_type": "markdown",
   "metadata": {},
   "source": [
    "<img src=\"LineSearchNewtonCG.png\" width=600 height=600 />"
   ]
  },
  {
   "cell_type": "code",
   "execution_count": 31,
   "metadata": {},
   "outputs": [
    {
     "data": {
      "text/plain": [
       "cg_optim (generic function with 1 method)"
      ]
     },
     "metadata": {},
     "output_type": "display_data"
    }
   ],
   "source": [
    "function cg_optim(H, ∇f)\n",
    "    #setup the tolerance:\n",
    "    n∇f = norm(∇f)\n",
    "#####################################\n",
    "    ϵk = min(0.5, sqrt(n∇f)).*n∇f # added\n",
    "####################################\n",
    "    n = length(∇f)\n",
    "    z = zeros(n)\n",
    "    r = ∇f\n",
    "    d = -r\n",
    "    \n",
    "    j = 0\n",
    "    while norm(r) ≥ ϵk && j < 3 * n\n",
    "###############################################\n",
    "        if dot(d, H * d) ≤ 0\n",
    "            pk = (j == 0) ? - ∇f : z # added\n",
    "        end\n",
    "##############################################\n",
    "        α =dot(r,r)./(transpose(d)*H*d) # added\n",
    "##############################################        \n",
    "        z += α * d\n",
    "        nrr2 = dot(r, r)\n",
    "        r += α * H * d\n",
    "##############################################\n",
    "        β  = dot(r,r)./nrr2 # added\n",
    "##############################################\n",
    "        d  = -r + β.*d\n",
    "        j += 1\n",
    "    end\n",
    "    return z # or return d?\n",
    "end"
   ]
  },
  {
   "cell_type": "markdown",
   "metadata": {},
   "source": [
    "Ce qui est important ici est qu'on a pas besoin de stocker/évaluer la matrice hessienne entière mais simplement le produit entre la hessienne et un vecteur. Pour un `NLPModels` on utilise:"
   ]
  },
  {
   "cell_type": "code",
   "execution_count": null,
   "metadata": {},
   "outputs": [],
   "source": [
    "? NLPModels.hprod"
   ]
  },
  {
   "cell_type": "code",
   "execution_count": null,
   "metadata": {},
   "outputs": [],
   "source": [
    "? NLPModels.hess_op"
   ]
  },
  {
   "cell_type": "code",
   "execution_count": 32,
   "metadata": {},
   "outputs": [
    {
     "data": {
      "text/plain": [
       "armijo_Newton_cg (generic function with 1 method)"
      ]
     },
     "metadata": {},
     "output_type": "display_data"
    }
   ],
   "source": [
    "function armijo_Newton_cg(nlp      :: AbstractNLPModel;\n",
    "                          x        :: AbstractVector = nlp.meta.x0,\n",
    "                          atol     :: Real = √eps(eltype(x)), \n",
    "                          rtol     :: Real = √eps(eltype(x)),\n",
    "                          max_eval :: Int = -1,\n",
    "                          max_time :: Float64 = 30.0,\n",
    "                          f_min    :: Float64 = -1.0e16)\n",
    "  start_time = time()\n",
    "  elapsed_time = 0.0\n",
    "\n",
    "  T = eltype(x)\n",
    "  n = nlp.meta.nvar\n",
    "\n",
    "  f = obj(nlp, x)\n",
    "  ∇f = grad(nlp, x)\n",
    "#################################################\n",
    "  H = hess_op(nlp, x)#what is y? Initialize H as linear operator representing the Hessian matrix \n",
    "#################################################\n",
    "\n",
    "  ∇fNorm = norm(∇f) #nrm2(n, ∇f)\n",
    "  ϵ = atol + rtol * ∇fNorm\n",
    "  iter = 0\n",
    "\n",
    "  @info log_header([:iter, :f, :dual, :slope, :bk], [Int, T, T, T, T],\n",
    "                   hdr_override=Dict(:f=>\"f(x)\", :dual=>\"‖∇f‖\", :slope=>\"∇fᵀd\"))\n",
    "\n",
    "  optimal = ∇fNorm ≤ ϵ\n",
    "  unbdd = f ≤ f_min\n",
    "  tired = neval_obj(nlp) > max_eval ≥ 0 || elapsed_time > max_time\n",
    "  stalled = false\n",
    "  status = :unknown\n",
    "\n",
    "  while !(optimal || tired || stalled || unbdd)\n",
    "        \n",
    "    d = cg_optim(H, ∇f) \n",
    "        \n",
    "    slope = dot(d, ∇f)\n",
    "    if slope ≥ 0\n",
    "      @error \"not a descent direction\" slope\n",
    "      status = :not_desc\n",
    "      stalled = true\n",
    "      continue\n",
    "    end\n",
    "\n",
    "    # Perform improved Armijo linesearch.\n",
    "    t, f = armijo(x, d, f, ∇f, slope, nlp)\n",
    "        \n",
    "    @info log_row(Any[iter, f, ∇fNorm, slope, t])\n",
    "\n",
    "    # Update L-BFGS approximation.\n",
    "    x += t * d\n",
    "    ∇f = grad(nlp, x)\n",
    "#################################################\n",
    "    H = hess_op(nlp, x)### Update H\n",
    "#################################################\n",
    "\n",
    "    ∇fNorm = norm(∇f) #nrm2(n, ∇f)\n",
    "    iter = iter + 1\n",
    "\n",
    "    optimal = ∇fNorm ≤ ϵ\n",
    "    unbdd = f ≤ f_min\n",
    "    elapsed_time = time() - start_time\n",
    "    tired = neval_obj(nlp) > max_eval ≥ 0 || elapsed_time > max_time\n",
    "  end\n",
    "  @info log_row(Any[iter, f, ∇fNorm])\n",
    "\n",
    "  if optimal\n",
    "    status = :first_order\n",
    "  elseif tired\n",
    "    if neval_obj(nlp) > max_eval ≥ 0\n",
    "      status = :max_eval\n",
    "    elseif elapsed_time > max_time\n",
    "      status = :max_time\n",
    "    end\n",
    "  elseif unbdd\n",
    "        status = :unbounded\n",
    "  end\n",
    "\n",
    "  return GenericExecutionStats(nlp, status = status, solution=x, objective=f, dual_feas=∇fNorm,\n",
    "                               iter=iter, elapsed_time=elapsed_time)\n",
    "end"
   ]
  },
  {
   "cell_type": "code",
   "execution_count": 33,
   "metadata": {},
   "outputs": [
    {
     "name": "stderr",
     "output_type": "stream",
     "text": [
      "┌ Info:   iter      f(x)      ‖∇f‖      ∇fᵀd        bk  \n",
      "└ @ Main /home/julien/Documents/code/MTH8408-Hiv24/lab3_JP/Lab3-notebook.ipynb:24\n",
      "┌ Info:      0  -5.6e-01   4.5e+00  -1.1e+00   1.0e+00\n",
      "└ @ Main /home/julien/Documents/code/MTH8408-Hiv24/lab3_JP/Lab3-notebook.ipynb:48\n"
     ]
    },
    {
     "name": "stdout",
     "output_type": "stream",
     "text": [
      "Generic Execution stats\n",
      "  status: first-order stationary\n",
      "  objective value: -1.0\n",
      "  primal feasibility: 0.0\n",
      "  dual feasibility: 3.932102548620205e-11\n",
      "  solution: [1.000000000013107  6.553566737834711e-12]\n",
      "  iterations: 5\n",
      "  elapsed time: 0.3534660339355469\n"
     ]
    },
    {
     "name": "stderr",
     "output_type": "stream",
     "text": [
      "┌ Info:      1  -9.9e-01   1.9e+00  -7.8e-01   1.0e+00\n",
      "└ @ Main /home/julien/Documents/code/MTH8408-Hiv24/lab3_JP/Lab3-notebook.ipynb:48\n",
      "┌ Info:      2  -1.0e+00   2.6e-01  -2.1e-02   1.0e+00\n",
      "└ @ Main /home/julien/Documents/code/MTH8408-Hiv24/lab3_JP/Lab3-notebook.ipynb:48\n",
      "┌ Info:      3  -1.0e+00   9.6e-03  -3.1e-05   1.0e+00\n",
      "└ @ Main /home/julien/Documents/code/MTH8408-Hiv24/lab3_JP/Lab3-notebook.ipynb:48\n",
      "┌ Info:      4  -1.0e+00   1.5e-05  -7.9e-11   1.0e+00\n",
      "└ @ Main /home/julien/Documents/code/MTH8408-Hiv24/lab3_JP/Lab3-notebook.ipynb:48\n",
      "┌ Info:      5  -1.0e+00   3.9e-11\n",
      "└ @ Main /home/julien/Documents/code/MTH8408-Hiv24/lab3_JP/Lab3-notebook.ipynb:65\n"
     ]
    }
   ],
   "source": [
    "#Unit/Validation Tests\n",
    "# Réaliser un test unitaire\n",
    "\n",
    "#Test\n",
    "f(x) = x[1]^2 * (2*x[1] - 3) - 6*x[1]*x[2] * (x[1] - x[2] - 1) # fonction objectif vue en classe\n",
    "x0 = zeros(2)\n",
    "x0[1] = 1.5\n",
    "x0[2] = 0.5\n",
    "\n",
    "nlp = ADNLPModel(f, x0)\n",
    "\n",
    "stats = armijo_Newton_cg(nlp)\n",
    "\n",
    "print(stats)"
   ]
  },
  {
   "cell_type": "markdown",
   "metadata": {},
   "source": [
    "## Comment préparer un benchmark\n",
    "\n",
    "On veut maintenant pouvoir réaliser un benchmark de plusieurs solveurs. Pour comparer les algorithmes, il nous faut une collection de problèmes tests et on va utiliser `OptimizationProblems.jl`."
   ]
  },
  {
   "cell_type": "code",
   "execution_count": 33,
   "metadata": {},
   "outputs": [],
   "source": [
    "using OptimizationProblems"
   ]
  },
  {
   "cell_type": "markdown",
   "metadata": {},
   "source": [
    "Vous pouvez trouver un tutoriel de comment réaliser un benchmark avec ce package sur la documentation [OptimizationProblems.jl/dev/benchmark/](https://juliasmoothoptimizers.github.io/OptimizationProblems.jl/dev/benchmark/)."
   ]
  },
  {
   "cell_type": "markdown",
   "metadata": {},
   "source": [
    "Il est fort possible que les petits problèmes tests que l'on résout après l'implémentation ne suffisent pas à déceler des bugs. Mais on peut toujours analyser l'éxecution de notre algorithme sur certains problèmes de la collection afin d'améliorer la valeur de certains paramètres (limite de temps, d'itérations, d'évaluations), détecter un bug, etc."
   ]
  },
  {
   "cell_type": "code",
   "execution_count": 34,
   "metadata": {},
   "outputs": [
    {
     "name": "stderr",
     "output_type": "stream",
     "text": [
      "WARNING: using PureJuMP.AMPGO02 in module Main conflicts with an existing identifier.\n",
      "WARNING: using PureJuMP.AMPGO03 in module Main conflicts with an existing identifier.\n",
      "WARNING: using PureJuMP.AMPGO04 in module Main conflicts with an existing identifier.\n",
      "WARNING: using PureJuMP.AMPGO05 in module Main conflicts with an existing identifier.\n",
      "WARNING: using PureJuMP.AMPGO06 in module Main conflicts with an existing identifier.\n",
      "WARNING: using PureJuMP.AMPGO07 in module Main conflicts with an existing identifier.\n",
      "WARNING: using PureJuMP.AMPGO08 in module Main conflicts with an existing identifier.\n",
      "WARNING: using PureJuMP.AMPGO09 in module Main conflicts with an existing identifier.\n",
      "WARNING: using PureJuMP.AMPGO10 in module Main conflicts with an existing identifier.\n",
      "WARNING: using PureJuMP.AMPGO11 in module Main conflicts with an existing identifier.\n",
      "WARNING: using PureJuMP.AMPGO12 in module Main conflicts with an existing identifier.\n",
      "WARNING: using PureJuMP.AMPGO13 in module Main conflicts with an existing identifier.\n",
      "WARNING: using PureJuMP.AMPGO14 in module Main conflicts with an existing identifier.\n",
      "WARNING: using PureJuMP.AMPGO15 in module Main conflicts with an existing identifier.\n",
      "WARNING: using PureJuMP.AMPGO18 in module Main conflicts with an existing identifier.\n",
      "WARNING: using PureJuMP.AMPGO20 in module Main conflicts with an existing identifier.\n",
      "WARNING: using PureJuMP.AMPGO21 in module Main conflicts with an existing identifier.\n",
      "WARNING: using PureJuMP.AMPGO22 in module Main conflicts with an existing identifier.\n",
      "WARNING: using PureJuMP.BOX2 in module Main conflicts with an existing identifier.\n",
      "WARNING: using PureJuMP.BOX3 in module Main conflicts with an existing identifier.\n",
      "WARNING: using PureJuMP.Dus2_1 in module Main conflicts with an existing identifier.\n",
      "WARNING: using PureJuMP.Dus2_3 in module Main conflicts with an existing identifier.\n",
      "WARNING: using PureJuMP.Dus2_9 in module Main conflicts with an existing identifier.\n",
      "WARNING: using PureJuMP.Duscube in module Main conflicts with an existing identifier.\n",
      "WARNING: using PureJuMP.NZF1 in module Main conflicts with an existing identifier.\n",
      "WARNING: using PureJuMP.aircrfta in module Main conflicts with an existing identifier.\n",
      "WARNING: using PureJuMP.allinit in module Main conflicts with an existing identifier.\n",
      "WARNING: using PureJuMP.allinitc in module Main conflicts with an existing identifier.\n",
      "WARNING: using PureJuMP.allinitu in module Main conflicts with an existing identifier.\n",
      "WARNING: using PureJuMP.alsotame in module Main conflicts with an existing identifier.\n",
      "WARNING: using PureJuMP.argauss in module Main conflicts with an existing identifier.\n",
      "WARNING: using PureJuMP.arglina in module Main conflicts with an existing identifier.\n",
      "WARNING: using PureJuMP.arglinb in module Main conflicts with an existing identifier.\n",
      "WARNING: using PureJuMP.arglinc in module Main conflicts with an existing identifier.\n",
      "WARNING: using PureJuMP.argtrig in module Main conflicts with an existing identifier.\n",
      "WARNING: using PureJuMP.arwhead in module Main conflicts with an existing identifier.\n",
      "WARNING: using PureJuMP.avion2 in module Main conflicts with an existing identifier.\n",
      "WARNING: using PureJuMP.bard in module Main conflicts with an existing identifier.\n",
      "WARNING: using PureJuMP.bdqrtic in module Main conflicts with an existing identifier.\n",
      "WARNING: using PureJuMP.beale in module Main conflicts with an existing identifier.\n",
      "WARNING: using PureJuMP.bearing in module Main conflicts with an existing identifier.\n",
      "WARNING: using PureJuMP.bennett5 in module Main conflicts with an existing identifier.\n",
      "WARNING: using PureJuMP.biggs5 in module Main conflicts with an existing identifier.\n",
      "WARNING: using PureJuMP.biggs6 in module Main conflicts with an existing identifier.\n",
      "WARNING: using PureJuMP.booth in module Main conflicts with an existing identifier.\n",
      "WARNING: using PureJuMP.boxbod in module Main conflicts with an existing identifier.\n",
      "WARNING: using PureJuMP.bqp1var in module Main conflicts with an existing identifier.\n",
      "WARNING: using PureJuMP.britgas in module Main conflicts with an existing identifier.\n",
      "WARNING: using PureJuMP.brownal in module Main conflicts with an existing identifier.\n",
      "WARNING: using PureJuMP.brownbs in module Main conflicts with an existing identifier.\n",
      "WARNING: using PureJuMP.brownden in module Main conflicts with an existing identifier.\n",
      "WARNING: using PureJuMP.broyden3d in module Main conflicts with an existing identifier.\n",
      "WARNING: using PureJuMP.broydn7d in module Main conflicts with an existing identifier.\n",
      "WARNING: using PureJuMP.brybnd in module Main conflicts with an existing identifier.\n",
      "WARNING: using PureJuMP.bt1 in module Main conflicts with an existing identifier.\n",
      "WARNING: using PureJuMP.camshape in module Main conflicts with an existing identifier.\n",
      "WARNING: using PureJuMP.catenary in module Main conflicts with an existing identifier.\n",
      "WARNING: using PureJuMP.chain in module Main conflicts with an existing identifier.\n",
      "WARNING: using PureJuMP.chainwoo in module Main conflicts with an existing identifier.\n",
      "WARNING: using PureJuMP.channel in module Main conflicts with an existing identifier.\n",
      "WARNING: using PureJuMP.chnrosnb_mod in module Main conflicts with an existing identifier.\n",
      "WARNING: using PureJuMP.chwirut1 in module Main conflicts with an existing identifier.\n",
      "WARNING: using PureJuMP.chwirut2 in module Main conflicts with an existing identifier.\n",
      "WARNING: using PureJuMP.cliff in module Main conflicts with an existing identifier.\n",
      "WARNING: using PureJuMP.clnlbeam in module Main conflicts with an existing identifier.\n",
      "WARNING: using PureJuMP.clplatea in module Main conflicts with an existing identifier.\n",
      "WARNING: using PureJuMP.clplateb in module Main conflicts with an existing identifier.\n",
      "WARNING: using PureJuMP.clplatec in module Main conflicts with an existing identifier.\n",
      "WARNING: using PureJuMP.controlinvestment in module Main conflicts with an existing identifier.\n",
      "WARNING: using PureJuMP.cosine in module Main conflicts with an existing identifier.\n",
      "WARNING: using PureJuMP.cragglvy in module Main conflicts with an existing identifier.\n",
      "WARNING: using PureJuMP.cragglvy2 in module Main conflicts with an existing identifier.\n",
      "WARNING: using PureJuMP.curly in module Main conflicts with an existing identifier.\n",
      "WARNING: using PureJuMP.curly10 in module Main conflicts with an existing identifier.\n",
      "WARNING: using PureJuMP.curly20 in module Main conflicts with an existing identifier.\n",
      "WARNING: using PureJuMP.curly30 in module Main conflicts with an existing identifier.\n",
      "WARNING: using PureJuMP.danwood in module Main conflicts with an existing identifier.\n",
      "WARNING: using PureJuMP.dixmaane in module Main conflicts with an existing identifier.\n",
      "WARNING: using PureJuMP.dixmaanf in module Main conflicts with an existing identifier.\n",
      "WARNING: using PureJuMP.dixmaang in module Main conflicts with an existing identifier.\n",
      "WARNING: using PureJuMP.dixmaanh in module Main conflicts with an existing identifier.\n",
      "WARNING: using PureJuMP.dixmaani in module Main conflicts with an existing identifier.\n",
      "WARNING: using PureJuMP.dixmaanj in module Main conflicts with an existing identifier.\n",
      "WARNING: using PureJuMP.dixmaank in module Main conflicts with an existing identifier.\n",
      "WARNING: using PureJuMP.dixmaanl in module Main conflicts with an existing identifier.\n",
      "WARNING: using PureJuMP.dixmaanm in module Main conflicts with an existing identifier.\n",
      "WARNING: using PureJuMP.dixmaann in module Main conflicts with an existing identifier.\n",
      "WARNING: using PureJuMP.dixmaano in module Main conflicts with an existing identifier.\n",
      "WARNING: using PureJuMP.dixmaanp in module Main conflicts with an existing identifier.\n",
      "WARNING: using PureJuMP.dixon3dq in module Main conflicts with an existing identifier.\n",
      "WARNING: using PureJuMP.dqdrtic in module Main conflicts with an existing identifier.\n",
      "WARNING: using PureJuMP.dqrtic in module Main conflicts with an existing identifier.\n",
      "WARNING: using PureJuMP.eckerle4 in module Main conflicts with an existing identifier.\n",
      "WARNING: using PureJuMP.edensch in module Main conflicts with an existing identifier.\n",
      "WARNING: using PureJuMP.eg2 in module Main conflicts with an existing identifier.\n",
      "WARNING: using PureJuMP.elec in module Main conflicts with an existing identifier.\n",
      "WARNING: using PureJuMP.engval1 in module Main conflicts with an existing identifier.\n",
      "WARNING: using PureJuMP.enso in module Main conflicts with an existing identifier.\n",
      "WARNING: using PureJuMP.errinros_mod in module Main conflicts with an existing identifier.\n",
      "WARNING: using PureJuMP.extrosnb in module Main conflicts with an existing identifier.\n",
      "WARNING: using PureJuMP.fletcbv2 in module Main conflicts with an existing identifier.\n",
      "WARNING: using PureJuMP.fletcbv3_mod in module Main conflicts with an existing identifier.\n",
      "WARNING: using PureJuMP.fletchcr in module Main conflicts with an existing identifier.\n",
      "WARNING: using PureJuMP.fminsrf2 in module Main conflicts with an existing identifier.\n",
      "WARNING: using PureJuMP.freuroth in module Main conflicts with an existing identifier.\n",
      "WARNING: using PureJuMP.gauss1 in module Main conflicts with an existing identifier.\n",
      "WARNING: using PureJuMP.gauss2 in module Main conflicts with an existing identifier.\n",
      "WARNING: using PureJuMP.gauss3 in module Main conflicts with an existing identifier.\n",
      "WARNING: using PureJuMP.gaussian in module Main conflicts with an existing identifier.\n",
      "WARNING: using PureJuMP.genhumps in module Main conflicts with an existing identifier.\n",
      "WARNING: using PureJuMP.genrose in module Main conflicts with an existing identifier.\n",
      "WARNING: using PureJuMP.rosenbrock in module Main conflicts with an existing identifier.\n",
      "WARNING: using PureJuMP.genrose_nash in module Main conflicts with an existing identifier.\n",
      "WARNING: using PureJuMP.gulf in module Main conflicts with an existing identifier.\n",
      "WARNING: using PureJuMP.hahn1 in module Main conflicts with an existing identifier.\n",
      "WARNING: using PureJuMP.helical in module Main conflicts with an existing identifier.\n",
      "WARNING: using PureJuMP.hovercraft1d in module Main conflicts with an existing identifier.\n",
      "WARNING: using PureJuMP.hs1 in module Main conflicts with an existing identifier.\n",
      "WARNING: using PureJuMP.hs10 in module Main conflicts with an existing identifier.\n",
      "WARNING: using PureJuMP.hs100 in module Main conflicts with an existing identifier.\n",
      "WARNING: using PureJuMP.hs101 in module Main conflicts with an existing identifier.\n",
      "WARNING: using PureJuMP.hs102 in module Main conflicts with an existing identifier.\n",
      "WARNING: using PureJuMP.hs103 in module Main conflicts with an existing identifier.\n",
      "WARNING: using PureJuMP.hs104 in module Main conflicts with an existing identifier.\n",
      "WARNING: using PureJuMP.hs105 in module Main conflicts with an existing identifier.\n",
      "WARNING: using PureJuMP.hs106 in module Main conflicts with an existing identifier.\n",
      "WARNING: using PureJuMP.hs107 in module Main conflicts with an existing identifier.\n",
      "WARNING: using PureJuMP.hs108 in module Main conflicts with an existing identifier.\n",
      "WARNING: using PureJuMP.hs109 in module Main conflicts with an existing identifier.\n",
      "WARNING: using PureJuMP.hs11 in module Main conflicts with an existing identifier.\n",
      "WARNING: using PureJuMP.hs110 in module Main conflicts with an existing identifier.\n",
      "WARNING: using PureJuMP.hs111 in module Main conflicts with an existing identifier.\n",
      "WARNING: using PureJuMP.hs112 in module Main conflicts with an existing identifier.\n",
      "WARNING: using PureJuMP.hs113 in module Main conflicts with an existing identifier.\n",
      "WARNING: using PureJuMP.hs114 in module Main conflicts with an existing identifier.\n",
      "WARNING: using PureJuMP.hs116 in module Main conflicts with an existing identifier.\n",
      "WARNING: using PureJuMP.hs117 in module Main conflicts with an existing identifier.\n",
      "WARNING: using PureJuMP.hs118 in module Main conflicts with an existing identifier.\n",
      "WARNING: using PureJuMP.hs119 in module Main conflicts with an existing identifier.\n",
      "WARNING: using PureJuMP.hs12 in module Main conflicts with an existing identifier.\n",
      "WARNING: using PureJuMP.hs13 in module Main conflicts with an existing identifier.\n",
      "WARNING: using PureJuMP.hs14 in module Main conflicts with an existing identifier.\n",
      "WARNING: using PureJuMP.hs15 in module Main conflicts with an existing identifier.\n",
      "WARNING: using PureJuMP.hs16 in module Main conflicts with an existing identifier.\n",
      "WARNING: using PureJuMP.hs17 in module Main conflicts with an existing identifier.\n",
      "WARNING: using PureJuMP.hs18 in module Main conflicts with an existing identifier.\n",
      "WARNING: using PureJuMP.hs19 in module Main conflicts with an existing identifier.\n",
      "WARNING: using PureJuMP.hs2 in module Main conflicts with an existing identifier.\n",
      "WARNING: using PureJuMP.hs20 in module Main conflicts with an existing identifier.\n",
      "WARNING: using PureJuMP.hs21 in module Main conflicts with an existing identifier.\n",
      "WARNING: using PureJuMP.hs219 in module Main conflicts with an existing identifier.\n",
      "WARNING: using PureJuMP.hs22 in module Main conflicts with an existing identifier.\n",
      "WARNING: using PureJuMP.hs220 in module Main conflicts with an existing identifier.\n",
      "WARNING: using PureJuMP.hs221 in module Main conflicts with an existing identifier.\n",
      "WARNING: using PureJuMP.hs222 in module Main conflicts with an existing identifier.\n",
      "WARNING: using PureJuMP.hs223 in module Main conflicts with an existing identifier.\n",
      "WARNING: using PureJuMP.hs224 in module Main conflicts with an existing identifier.\n",
      "WARNING: using PureJuMP.hs225 in module Main conflicts with an existing identifier.\n",
      "WARNING: using PureJuMP.hs226 in module Main conflicts with an existing identifier.\n",
      "WARNING: using PureJuMP.hs227 in module Main conflicts with an existing identifier.\n",
      "WARNING: using PureJuMP.hs228 in module Main conflicts with an existing identifier.\n",
      "WARNING: using PureJuMP.hs229 in module Main conflicts with an existing identifier.\n",
      "WARNING: using PureJuMP.hs23 in module Main conflicts with an existing identifier.\n",
      "WARNING: using PureJuMP.hs230 in module Main conflicts with an existing identifier.\n",
      "WARNING: using PureJuMP.hs231 in module Main conflicts with an existing identifier.\n",
      "WARNING: using PureJuMP.hs232 in module Main conflicts with an existing identifier.\n",
      "WARNING: using PureJuMP.hs233 in module Main conflicts with an existing identifier.\n",
      "WARNING: using PureJuMP.hs234 in module Main conflicts with an existing identifier.\n",
      "WARNING: using PureJuMP.hs235 in module Main conflicts with an existing identifier.\n",
      "WARNING: using PureJuMP.hs236 in module Main conflicts with an existing identifier.\n",
      "WARNING: using PureJuMP.hs237 in module Main conflicts with an existing identifier.\n",
      "WARNING: using PureJuMP.hs238 in module Main conflicts with an existing identifier.\n",
      "WARNING: using PureJuMP.hs239 in module Main conflicts with an existing identifier.\n",
      "WARNING: using PureJuMP.hs24 in module Main conflicts with an existing identifier.\n",
      "WARNING: using PureJuMP.hs240 in module Main conflicts with an existing identifier.\n",
      "WARNING: using PureJuMP.hs241 in module Main conflicts with an existing identifier.\n",
      "WARNING: using PureJuMP.hs242 in module Main conflicts with an existing identifier.\n",
      "WARNING: using PureJuMP.hs243 in module Main conflicts with an existing identifier.\n",
      "WARNING: using PureJuMP.hs244 in module Main conflicts with an existing identifier.\n",
      "WARNING: using PureJuMP.hs245 in module Main conflicts with an existing identifier.\n",
      "WARNING: using PureJuMP.hs246 in module Main conflicts with an existing identifier.\n",
      "WARNING: using PureJuMP.hs248 in module Main conflicts with an existing identifier.\n",
      "WARNING: using PureJuMP.hs249 in module Main conflicts with an existing identifier.\n",
      "WARNING: using PureJuMP.hs25 in module Main conflicts with an existing identifier.\n",
      "WARNING: using PureJuMP.hs250 in module Main conflicts with an existing identifier.\n",
      "WARNING: using PureJuMP.hs251 in module Main conflicts with an existing identifier.\n",
      "WARNING: using PureJuMP.hs252 in module Main conflicts with an existing identifier.\n",
      "WARNING: using PureJuMP.hs253 in module Main conflicts with an existing identifier.\n",
      "WARNING: using PureJuMP.hs254 in module Main conflicts with an existing identifier.\n",
      "WARNING: using PureJuMP.hs255 in module Main conflicts with an existing identifier.\n",
      "WARNING: using PureJuMP.hs256 in module Main conflicts with an existing identifier.\n",
      "WARNING: using PureJuMP.hs257 in module Main conflicts with an existing identifier.\n",
      "WARNING: using PureJuMP.hs258 in module Main conflicts with an existing identifier.\n",
      "WARNING: using PureJuMP.hs259 in module Main conflicts with an existing identifier.\n",
      "WARNING: using PureJuMP.hs26 in module Main conflicts with an existing identifier.\n",
      "WARNING: using PureJuMP.hs260 in module Main conflicts with an existing identifier.\n",
      "WARNING: using PureJuMP.hs261 in module Main conflicts with an existing identifier.\n",
      "WARNING: using PureJuMP.hs262 in module Main conflicts with an existing identifier.\n",
      "WARNING: using PureJuMP.hs263 in module Main conflicts with an existing identifier.\n",
      "WARNING: using PureJuMP.hs264 in module Main conflicts with an existing identifier.\n",
      "WARNING: using PureJuMP.hs265 in module Main conflicts with an existing identifier.\n",
      "WARNING: using PureJuMP.hs27 in module Main conflicts with an existing identifier.\n",
      "WARNING: using PureJuMP.hs28 in module Main conflicts with an existing identifier.\n",
      "WARNING: using PureJuMP.hs29 in module Main conflicts with an existing identifier.\n",
      "WARNING: using PureJuMP.hs3 in module Main conflicts with an existing identifier.\n",
      "WARNING: using PureJuMP.hs30 in module Main conflicts with an existing identifier.\n",
      "WARNING: using PureJuMP.hs31 in module Main conflicts with an existing identifier.\n",
      "WARNING: using PureJuMP.hs316 in module Main conflicts with an existing identifier.\n",
      "WARNING: using PureJuMP.hs317 in module Main conflicts with an existing identifier.\n",
      "WARNING: using PureJuMP.hs318 in module Main conflicts with an existing identifier.\n",
      "WARNING: using PureJuMP.hs319 in module Main conflicts with an existing identifier.\n",
      "WARNING: using PureJuMP.hs32 in module Main conflicts with an existing identifier.\n",
      "WARNING: using PureJuMP.hs320 in module Main conflicts with an existing identifier.\n",
      "WARNING: using PureJuMP.hs321 in module Main conflicts with an existing identifier.\n",
      "WARNING: using PureJuMP.hs322 in module Main conflicts with an existing identifier.\n",
      "WARNING: using PureJuMP.hs33 in module Main conflicts with an existing identifier.\n",
      "WARNING: using PureJuMP.hs34 in module Main conflicts with an existing identifier.\n",
      "WARNING: using PureJuMP.hs35 in module Main conflicts with an existing identifier.\n",
      "WARNING: using PureJuMP.hs36 in module Main conflicts with an existing identifier.\n",
      "WARNING: using PureJuMP.hs37 in module Main conflicts with an existing identifier.\n",
      "WARNING: using PureJuMP.hs378 in module Main conflicts with an existing identifier.\n",
      "WARNING: using PureJuMP.hs38 in module Main conflicts with an existing identifier.\n",
      "WARNING: using PureJuMP.hs39 in module Main conflicts with an existing identifier.\n",
      "WARNING: using PureJuMP.hs4 in module Main conflicts with an existing identifier.\n",
      "WARNING: using PureJuMP.hs40 in module Main conflicts with an existing identifier.\n",
      "WARNING: using PureJuMP.hs41 in module Main conflicts with an existing identifier.\n",
      "WARNING: using PureJuMP.hs42 in module Main conflicts with an existing identifier.\n",
      "WARNING: using PureJuMP.hs43 in module Main conflicts with an existing identifier.\n",
      "WARNING: using PureJuMP.hs44 in module Main conflicts with an existing identifier.\n",
      "WARNING: using PureJuMP.hs45 in module Main conflicts with an existing identifier.\n",
      "WARNING: using PureJuMP.hs46 in module Main conflicts with an existing identifier.\n",
      "WARNING: using PureJuMP.hs47 in module Main conflicts with an existing identifier.\n",
      "WARNING: using PureJuMP.hs48 in module Main conflicts with an existing identifier.\n",
      "WARNING: using PureJuMP.hs49 in module Main conflicts with an existing identifier.\n",
      "WARNING: using PureJuMP.hs5 in module Main conflicts with an existing identifier.\n",
      "WARNING: using PureJuMP.hs50 in module Main conflicts with an existing identifier.\n",
      "WARNING: using PureJuMP.hs51 in module Main conflicts with an existing identifier.\n",
      "WARNING: using PureJuMP.hs52 in module Main conflicts with an existing identifier.\n",
      "WARNING: using PureJuMP.hs53 in module Main conflicts with an existing identifier.\n",
      "WARNING: using PureJuMP.hs54 in module Main conflicts with an existing identifier.\n",
      "WARNING: using PureJuMP.hs55 in module Main conflicts with an existing identifier.\n",
      "WARNING: using PureJuMP.hs56 in module Main conflicts with an existing identifier.\n",
      "WARNING: using PureJuMP.hs57 in module Main conflicts with an existing identifier.\n",
      "WARNING: using PureJuMP.hs59 in module Main conflicts with an existing identifier.\n",
      "WARNING: using PureJuMP.hs6 in module Main conflicts with an existing identifier.\n",
      "WARNING: using PureJuMP.hs60 in module Main conflicts with an existing identifier.\n",
      "WARNING: using PureJuMP.hs61 in module Main conflicts with an existing identifier.\n",
      "WARNING: using PureJuMP.hs62 in module Main conflicts with an existing identifier.\n",
      "WARNING: using PureJuMP.hs63 in module Main conflicts with an existing identifier.\n",
      "WARNING: using PureJuMP.hs64 in module Main conflicts with an existing identifier.\n",
      "WARNING: using PureJuMP.hs65 in module Main conflicts with an existing identifier.\n",
      "WARNING: using PureJuMP.hs66 in module Main conflicts with an existing identifier.\n",
      "WARNING: using PureJuMP.hs68 in module Main conflicts with an existing identifier.\n",
      "WARNING: using PureJuMP.hs69 in module Main conflicts with an existing identifier.\n",
      "WARNING: using PureJuMP.hs7 in module Main conflicts with an existing identifier.\n",
      "WARNING: using PureJuMP.hs70 in module Main conflicts with an existing identifier.\n",
      "WARNING: using PureJuMP.hs71 in module Main conflicts with an existing identifier.\n",
      "WARNING: using PureJuMP.hs72 in module Main conflicts with an existing identifier.\n",
      "WARNING: using PureJuMP.hs73 in module Main conflicts with an existing identifier.\n",
      "WARNING: using PureJuMP.hs74 in module Main conflicts with an existing identifier.\n",
      "WARNING: using PureJuMP.hs75 in module Main conflicts with an existing identifier.\n",
      "WARNING: using PureJuMP.hs76 in module Main conflicts with an existing identifier.\n",
      "WARNING: using PureJuMP.hs77 in module Main conflicts with an existing identifier.\n",
      "WARNING: using PureJuMP.hs78 in module Main conflicts with an existing identifier.\n",
      "WARNING: using PureJuMP.hs79 in module Main conflicts with an existing identifier.\n",
      "WARNING: using PureJuMP.hs8 in module Main conflicts with an existing identifier.\n",
      "WARNING: using PureJuMP.hs80 in module Main conflicts with an existing identifier.\n",
      "WARNING: using PureJuMP.hs81 in module Main conflicts with an existing identifier.\n",
      "WARNING: using PureJuMP.hs83 in module Main conflicts with an existing identifier.\n",
      "WARNING: using PureJuMP.hs84 in module Main conflicts with an existing identifier.\n",
      "WARNING: using PureJuMP.hs86 in module Main conflicts with an existing identifier.\n",
      "WARNING: using PureJuMP.hs87 in module Main conflicts with an existing identifier.\n",
      "WARNING: using PureJuMP.hs9 in module Main conflicts with an existing identifier.\n",
      "WARNING: using PureJuMP.hs93 in module Main conflicts with an existing identifier.\n",
      "WARNING: using PureJuMP.hs95 in module Main conflicts with an existing identifier.\n",
      "WARNING: using PureJuMP.hs96 in module Main conflicts with an existing identifier.\n",
      "WARNING: using PureJuMP.hs97 in module Main conflicts with an existing identifier.\n",
      "WARNING: using PureJuMP.hs98 in module Main conflicts with an existing identifier.\n",
      "WARNING: using PureJuMP.hs99 in module Main conflicts with an existing identifier.\n",
      "WARNING: using PureJuMP.indef_mod in module Main conflicts with an existing identifier.\n",
      "WARNING: using PureJuMP.integreq in module Main conflicts with an existing identifier.\n",
      "WARNING: using PureJuMP.jennrichsampson in module Main conflicts with an existing identifier.\n",
      "WARNING: using PureJuMP.kirby2 in module Main conflicts with an existing identifier.\n",
      "WARNING: using PureJuMP.kowosb in module Main conflicts with an existing identifier.\n",
      "WARNING: using PureJuMP.lanczos1 in module Main conflicts with an existing identifier.\n",
      "WARNING: using PureJuMP.lanczos2 in module Main conflicts with an existing identifier.\n",
      "WARNING: using PureJuMP.lanczos3 in module Main conflicts with an existing identifier.\n",
      "WARNING: using PureJuMP.liarwhd in module Main conflicts with an existing identifier.\n",
      "WARNING: using PureJuMP.lincon in module Main conflicts with an existing identifier.\n",
      "WARNING: using PureJuMP.linsv in module Main conflicts with an existing identifier.\n",
      "WARNING: using PureJuMP.marine in module Main conflicts with an existing identifier.\n",
      "WARNING: using PureJuMP.meyer3 in module Main conflicts with an existing identifier.\n",
      "WARNING: using PureJuMP.mgh01feas in module Main conflicts with an existing identifier.\n",
      "WARNING: using PureJuMP.mgh09 in module Main conflicts with an existing identifier.\n",
      "WARNING: using PureJuMP.mgh10 in module Main conflicts with an existing identifier.\n",
      "WARNING: using PureJuMP.mgh17 in module Main conflicts with an existing identifier.\n",
      "WARNING: using PureJuMP.misra1a in module Main conflicts with an existing identifier.\n",
      "WARNING: using PureJuMP.misra1b in module Main conflicts with an existing identifier.\n",
      "WARNING: using PureJuMP.misra1c in module Main conflicts with an existing identifier.\n",
      "WARNING: using PureJuMP.misra1d in module Main conflicts with an existing identifier.\n",
      "WARNING: using PureJuMP.morebv in module Main conflicts with an existing identifier.\n",
      "WARNING: using PureJuMP.nasty in module Main conflicts with an existing identifier.\n",
      "WARNING: using PureJuMP.ncb20 in module Main conflicts with an existing identifier.\n",
      "WARNING: using PureJuMP.ncb20b in module Main conflicts with an existing identifier.\n",
      "WARNING: using PureJuMP.nelson in module Main conflicts with an existing identifier.\n",
      "WARNING: using PureJuMP.noncvxu2 in module Main conflicts with an existing identifier.\n",
      "WARNING: using PureJuMP.noncvxun in module Main conflicts with an existing identifier.\n",
      "WARNING: using PureJuMP.nondia in module Main conflicts with an existing identifier.\n",
      "WARNING: using PureJuMP.nondquar in module Main conflicts with an existing identifier.\n",
      "WARNING: using PureJuMP.osborne1 in module Main conflicts with an existing identifier.\n",
      "WARNING: using PureJuMP.osborne2 in module Main conflicts with an existing identifier.\n",
      "WARNING: using PureJuMP.palmer1c in module Main conflicts with an existing identifier.\n",
      "WARNING: using PureJuMP.palmer1d in module Main conflicts with an existing identifier.\n",
      "WARNING: using PureJuMP.palmer2c in module Main conflicts with an existing identifier.\n",
      "WARNING: using PureJuMP.palmer3c in module Main conflicts with an existing identifier.\n",
      "WARNING: using PureJuMP.palmer4c in module Main conflicts with an existing identifier.\n",
      "WARNING: using PureJuMP.palmer5c in module Main conflicts with an existing identifier.\n",
      "WARNING: using PureJuMP.palmer5d in module Main conflicts with an existing identifier.\n",
      "WARNING: using PureJuMP.palmer6c in module Main conflicts with an existing identifier.\n",
      "WARNING: using PureJuMP.palmer7c in module Main conflicts with an existing identifier.\n",
      "WARNING: using PureJuMP.palmer8c in module Main conflicts with an existing identifier.\n",
      "WARNING: using PureJuMP.penalty1 in module Main conflicts with an existing identifier.\n",
      "WARNING: using PureJuMP.penalty2 in module Main conflicts with an existing identifier.\n",
      "WARNING: using PureJuMP.penalty3 in module Main conflicts with an existing identifier.\n",
      "WARNING: using PureJuMP.polygon in module Main conflicts with an existing identifier.\n",
      "WARNING: using PureJuMP.polygon1 in module Main conflicts with an existing identifier.\n",
      "WARNING: using PureJuMP.polygon2 in module Main conflicts with an existing identifier.\n",
      "WARNING: using PureJuMP.polygon3 in module Main conflicts with an existing identifier.\n",
      "WARNING: using PureJuMP.powellbs in module Main conflicts with an existing identifier.\n",
      "WARNING: using PureJuMP.powellsg in module Main conflicts with an existing identifier.\n",
      "WARNING: using PureJuMP.power in module Main conflicts with an existing identifier.\n",
      "WARNING: using PureJuMP.quartc in module Main conflicts with an existing identifier.\n",
      "WARNING: using PureJuMP.rat42 in module Main conflicts with an existing identifier.\n",
      "WARNING: using PureJuMP.rat43 in module Main conflicts with an existing identifier.\n",
      "WARNING: using PureJuMP.robotarm in module Main conflicts with an existing identifier.\n",
      "WARNING: using PureJuMP.Shpak1 in module Main conflicts with an existing identifier.\n",
      "WARNING: using PureJuMP.Shpak2 in module Main conflicts with an existing identifier.\n",
      "WARNING: using PureJuMP.Shpak3 in module Main conflicts with an existing identifier.\n",
      "WARNING: using PureJuMP.Shpak4 in module Main conflicts with an existing identifier.\n",
      "WARNING: using PureJuMP.Shpak5 in module Main conflicts with an existing identifier.\n",
      "WARNING: using PureJuMP.Shpak6 in module Main conflicts with an existing identifier.\n"
     ]
    },
    {
     "ename": "MethodError",
     "evalue": "MethodError: no method matching MathOptNLPModel(::ADNLPModel{Float64, Vector{Float64}, Vector{Int64}})\n\nClosest candidates are:\n  MathOptNLPModel(::Any, !Matched::Any, !Matched::Any, !Matched::Any, !Matched::Any, !Matched::Any)\n   @ NLPModelsJuMP ~/.julia/packages/NLPModelsJuMP/1KSlI/src/moi_nlp_model.jl:4\n  MathOptNLPModel(!Matched::NLPModelMeta{Float64, Vector{Float64}}, !Matched::MathOptInterface.Nonlinear.Evaluator, !Matched::NLPModelsJuMP.LinearConstraints, !Matched::NLPModelsJuMP.NonLinearStructure, !Matched::NLPModelsJuMP.Objective, !Matched::Counters)\n   @ NLPModelsJuMP ~/.julia/packages/NLPModelsJuMP/1KSlI/src/moi_nlp_model.jl:4\n  MathOptNLPModel(!Matched::JuMP.Model; kws...)\n   @ NLPModelsJuMP ~/.julia/packages/NLPModelsJuMP/1KSlI/src/moi_nlp_model.jl:19\n  ...\n",
     "output_type": "error",
     "traceback": [
      "MethodError: no method matching MathOptNLPModel(::ADNLPModel{Float64, Vector{Float64}, Vector{Int64}})\n",
      "\n",
      "Closest candidates are:\n",
      "  MathOptNLPModel(::Any, !Matched::Any, !Matched::Any, !Matched::Any, !Matched::Any, !Matched::Any)\n",
      "   @ NLPModelsJuMP ~/.julia/packages/NLPModelsJuMP/1KSlI/src/moi_nlp_model.jl:4\n",
      "  MathOptNLPModel(!Matched::NLPModelMeta{Float64, Vector{Float64}}, !Matched::MathOptInterface.Nonlinear.Evaluator, !Matched::NLPModelsJuMP.LinearConstraints, !Matched::NLPModelsJuMP.NonLinearStructure, !Matched::NLPModelsJuMP.Objective, !Matched::Counters)\n",
      "   @ NLPModelsJuMP ~/.julia/packages/NLPModelsJuMP/1KSlI/src/moi_nlp_model.jl:4\n",
      "  MathOptNLPModel(!Matched::JuMP.Model; kws...)\n",
      "   @ NLPModelsJuMP ~/.julia/packages/NLPModelsJuMP/1KSlI/src/moi_nlp_model.jl:19\n",
      "  ...\n",
      "\n",
      "\n",
      "Stacktrace:\n",
      " [1] top-level scope\n",
      "   @ ~/Documents/code/MTH8408-Hiv24/lab3_JP/Lab3-notebook.ipynb:3"
     ]
    }
   ],
   "source": [
    "using OptimizationProblems.PureJuMP, NLPModelsJuMP # possible erreur utiliser ADNLPProblems\n",
    "jump_model = AMPGO02() # OptimizationProblems.PureJuMP.AMPGO02\n",
    "prbl = MathOptNLPModel(jump_model)\n",
    "limited_bfgs(prbl)"
   ]
  },
  {
   "cell_type": "markdown",
   "metadata": {},
   "source": [
    "Vous vous en doutez pour le rapport de cette semaine on va vouloir réaliser une benchmark avec les deux méthodes que l'on a codé."
   ]
  },
  {
   "cell_type": "markdown",
   "metadata": {},
   "source": [
    "### Appendix:\n",
    "\n",
    "Une petite remarque sur la gestion de la mémoire:"
   ]
  },
  {
   "cell_type": "code",
   "execution_count": 34,
   "metadata": {
    "scrolled": true
   },
   "outputs": [
    {
     "name": "stdout",
     "output_type": "stream",
     "text": [
      "a = 1\n",
      "b = 1\n",
      "b = 1\n"
     ]
    },
    {
     "data": {
      "text/plain": [
       "1"
      ]
     },
     "metadata": {},
     "output_type": "display_data"
    }
   ],
   "source": [
    "#Pour les nombres:\n",
    "a = 1\n",
    "@show a\n",
    "b = a\n",
    "@show b\n",
    "a = 2\n",
    "@show b"
   ]
  },
  {
   "cell_type": "code",
   "execution_count": 38,
   "metadata": {},
   "outputs": [
    {
     "name": "stdout",
     "output_type": "stream",
     "text": [
      "a = [0.0, 0.0]\n",
      "(a, b) = ([0.0, 0.0], [0.0, 0.0])\n",
      "(a, b) = ([1.0, 1.0], [0.0, 0.0])\n",
      "(a, b) = ([1.0, 1.0], [1.0, 1.0])\n",
      "(a, b) = ([2.0, 2.0], [2.0, 2.0])\n",
      "(a, b) = ([1.0, 1.0], [1.0, 1.0])\n",
      "(a, b) = ([2.0, 2.0], [1.0, 1.0])\n"
     ]
    },
    {
     "data": {
      "text/plain": [
       "([2.0, 2.0], [1.0, 1.0])"
      ]
     },
     "metadata": {},
     "output_type": "display_data"
    }
   ],
   "source": [
    "#Pour les tableaux:\n",
    "a = zeros(Float64, 2) #or zeros(2)\n",
    "@show a\n",
    "b = a\n",
    "@show (a,b)\n",
    "a = ones(Float64, 2)\n",
    "@show (a,b)\n",
    "\n",
    "#Pour les tableaux:\n",
    "a = ones(Float64, 2)\n",
    "b = a\n",
    "@show (a,b)\n",
    "a .= 2*ones(Float64, 2) #same would go with grad!\n",
    "@show (a,b)\n",
    "\n",
    "#Pour les tableaux:\n",
    "a = ones(Float64, 2)\n",
    "b = copy(a) # or similar(a)\n",
    "@show (a,b)\n",
    "a .= 2 .* ones(Float64, 2) #same would go with grad!\n",
    "@show (a,b)"
   ]
  },
  {
   "cell_type": "code",
   "execution_count": 39,
   "metadata": {},
   "outputs": [
    {
     "data": {
      "text/plain": [
       "2-element Vector{Float64}:\n",
       " 0.0\n",
       " 4.5"
      ]
     },
     "metadata": {},
     "output_type": "display_data"
    }
   ],
   "source": [
    "#Pour les NLPModels, il existe aussi des fonctions qui interviennent sur la mémoire\n",
    "gk = grad(nlp, x0)\n",
    "grad!(nlp, x0, gk) #équivaut à gk .= grad(nlp, x0)"
   ]
  },
  {
   "cell_type": "markdown",
   "metadata": {},
   "source": [
    "Comparez les `grad` et `grad!` à l'aide de `@benchmark` ainsi que:\n"
   ]
  },
  {
   "cell_type": "code",
   "execution_count": 40,
   "metadata": {},
   "outputs": [
    {
     "data": {
      "text/plain": [
       "BenchmarkTools.Trial: 10000 samples with 3 evaluations.\n",
       " Range \u001b[90m(\u001b[39m\u001b[36m\u001b[1mmin\u001b[22m\u001b[39m … \u001b[35mmax\u001b[39m\u001b[90m):  \u001b[39m\u001b[36m\u001b[1m 6.085 μs\u001b[22m\u001b[39m … \u001b[35m448.706 μs\u001b[39m  \u001b[90m┊\u001b[39m GC \u001b[90m(\u001b[39mmin … max\u001b[90m): \u001b[39m 0.00% … 94.90%\n",
       " Time  \u001b[90m(\u001b[39m\u001b[34m\u001b[1mmedian\u001b[22m\u001b[39m\u001b[90m):     \u001b[39m\u001b[34m\u001b[1m11.989 μs               \u001b[22m\u001b[39m\u001b[90m┊\u001b[39m GC \u001b[90m(\u001b[39mmedian\u001b[90m):    \u001b[39m 0.00%\n",
       " Time  \u001b[90m(\u001b[39m\u001b[32m\u001b[1mmean\u001b[22m\u001b[39m ± \u001b[32mσ\u001b[39m\u001b[90m):   \u001b[39m\u001b[32m\u001b[1m15.183 μs\u001b[22m\u001b[39m ± \u001b[32m 22.765 μs\u001b[39m  \u001b[90m┊\u001b[39m GC \u001b[90m(\u001b[39mmean ± σ\u001b[90m):  \u001b[39m12.66% ±  8.55%\n",
       "\n",
       "  \u001b[39m \u001b[39m \u001b[39m \u001b[39m▃\u001b[39m█\u001b[34m█\u001b[39m\u001b[39m▅\u001b[39m▃\u001b[32m▁\u001b[39m\u001b[39m \u001b[39m \u001b[39m \u001b[39m \u001b[39m \u001b[39m \u001b[39m \u001b[39m \u001b[39m \u001b[39m \u001b[39m \u001b[39m \u001b[39m \u001b[39m \u001b[39m \u001b[39m \u001b[39m \u001b[39m \u001b[39m \u001b[39m \u001b[39m \u001b[39m \u001b[39m \u001b[39m \u001b[39m \u001b[39m \u001b[39m \u001b[39m \u001b[39m \u001b[39m \u001b[39m \u001b[39m \u001b[39m \u001b[39m \u001b[39m \u001b[39m \u001b[39m \u001b[39m \u001b[39m \u001b[39m \u001b[39m \u001b[39m \u001b[39m \u001b[39m \u001b[39m \u001b[39m \u001b[39m \u001b[39m \u001b[39m \u001b[39m \u001b[39m \u001b[39m \u001b[39m▂\n",
       "  \u001b[39m▆\u001b[39m▇\u001b[39m█\u001b[39m█\u001b[39m█\u001b[34m█\u001b[39m\u001b[39m█\u001b[39m█\u001b[32m█\u001b[39m\u001b[39m▇\u001b[39m▆\u001b[39m▃\u001b[39m▁\u001b[39m▄\u001b[39m▃\u001b[39m▁\u001b[39m▁\u001b[39m▁\u001b[39m▁\u001b[39m▁\u001b[39m▁\u001b[39m▁\u001b[39m▁\u001b[39m▁\u001b[39m▄\u001b[39m▁\u001b[39m▁\u001b[39m▁\u001b[39m▁\u001b[39m▁\u001b[39m▁\u001b[39m▁\u001b[39m▁\u001b[39m▁\u001b[39m▃\u001b[39m▁\u001b[39m▃\u001b[39m▁\u001b[39m▁\u001b[39m▄\u001b[39m▃\u001b[39m▄\u001b[39m▃\u001b[39m▁\u001b[39m▃\u001b[39m▄\u001b[39m▄\u001b[39m▃\u001b[39m▇\u001b[39m█\u001b[39m█\u001b[39m▆\u001b[39m▆\u001b[39m▇\u001b[39m▅\u001b[39m▅\u001b[39m▁\u001b[39m▄\u001b[39m▅\u001b[39m▆\u001b[39m \u001b[39m█\n",
       "  6.08 μs\u001b[90m       \u001b[39m\u001b[90mHistogram: \u001b[39m\u001b[90m\u001b[1mlog(\u001b[22m\u001b[39m\u001b[90mfrequency\u001b[39m\u001b[90m\u001b[1m)\u001b[22m\u001b[39m\u001b[90m by time\u001b[39m      75.5 μs \u001b[0m\u001b[1m<\u001b[22m\n",
       "\n",
       " Memory estimate\u001b[90m: \u001b[39m\u001b[33m234.52 KiB\u001b[39m, allocs estimate\u001b[90m: \u001b[39m\u001b[33m6\u001b[39m."
      ]
     },
     "metadata": {},
     "output_type": "display_data"
    }
   ],
   "source": [
    "n = 10000\n",
    "a = rand(n)\n",
    "b = ones(n)\n",
    "c = similar(a)\n",
    "@benchmark c = 2 * a + b * 1.2"
   ]
  },
  {
   "cell_type": "markdown",
   "metadata": {},
   "source": [
    "\n",
    "et"
   ]
  },
  {
   "cell_type": "code",
   "execution_count": 41,
   "metadata": {},
   "outputs": [
    {
     "data": {
      "text/plain": [
       "BenchmarkTools.Trial: 10000 samples with 10 evaluations.\n",
       " Range \u001b[90m(\u001b[39m\u001b[36m\u001b[1mmin\u001b[22m\u001b[39m … \u001b[35mmax\u001b[39m\u001b[90m):  \u001b[39m\u001b[36m\u001b[1m1.472 μs\u001b[22m\u001b[39m … \u001b[35m 2.851 μs\u001b[39m  \u001b[90m┊\u001b[39m GC \u001b[90m(\u001b[39mmin … max\u001b[90m): \u001b[39m0.00% … 0.00%\n",
       " Time  \u001b[90m(\u001b[39m\u001b[34m\u001b[1mmedian\u001b[22m\u001b[39m\u001b[90m):     \u001b[39m\u001b[34m\u001b[1m1.531 μs              \u001b[22m\u001b[39m\u001b[90m┊\u001b[39m GC \u001b[90m(\u001b[39mmedian\u001b[90m):    \u001b[39m0.00%\n",
       " Time  \u001b[90m(\u001b[39m\u001b[32m\u001b[1mmean\u001b[22m\u001b[39m ± \u001b[32mσ\u001b[39m\u001b[90m):   \u001b[39m\u001b[32m\u001b[1m1.532 μs\u001b[22m\u001b[39m ± \u001b[32m36.808 ns\u001b[39m  \u001b[90m┊\u001b[39m GC \u001b[90m(\u001b[39mmean ± σ\u001b[90m):  \u001b[39m0.00% ± 0.00%\n",
       "\n",
       "  \u001b[39m \u001b[39m \u001b[39m \u001b[39m \u001b[39m \u001b[39m \u001b[39m \u001b[39m \u001b[39m \u001b[39m \u001b[39m \u001b[39m \u001b[39m \u001b[39m \u001b[39m▂\u001b[39m \u001b[39m▂\u001b[39m▅\u001b[39m▃\u001b[39m▃\u001b[39m█\u001b[39m▃\u001b[39m▃\u001b[39m█\u001b[39m▃\u001b[34m▅\u001b[39m\u001b[32m█\u001b[39m\u001b[39m▄\u001b[39m▇\u001b[39m▄\u001b[39m▃\u001b[39m▆\u001b[39m▃\u001b[39m▂\u001b[39m▃\u001b[39m▁\u001b[39m \u001b[39m▁\u001b[39m \u001b[39m \u001b[39m \u001b[39m \u001b[39m \u001b[39m \u001b[39m \u001b[39m \u001b[39m \u001b[39m \u001b[39m \u001b[39m \u001b[39m \u001b[39m \u001b[39m \u001b[39m \u001b[39m \u001b[39m \u001b[39m \u001b[39m \u001b[39m \u001b[39m \n",
       "  \u001b[39m▁\u001b[39m▁\u001b[39m▁\u001b[39m▂\u001b[39m▂\u001b[39m▃\u001b[39m▄\u001b[39m▄\u001b[39m▇\u001b[39m▅\u001b[39m▅\u001b[39m▇\u001b[39m▆\u001b[39m▇\u001b[39m█\u001b[39m█\u001b[39m█\u001b[39m█\u001b[39m█\u001b[39m█\u001b[39m█\u001b[39m█\u001b[39m█\u001b[39m█\u001b[39m█\u001b[34m█\u001b[39m\u001b[32m█\u001b[39m\u001b[39m█\u001b[39m█\u001b[39m█\u001b[39m█\u001b[39m█\u001b[39m█\u001b[39m█\u001b[39m█\u001b[39m█\u001b[39m▇\u001b[39m█\u001b[39m▅\u001b[39m▅\u001b[39m▅\u001b[39m▃\u001b[39m▃\u001b[39m▂\u001b[39m▂\u001b[39m▂\u001b[39m▂\u001b[39m▁\u001b[39m▁\u001b[39m▁\u001b[39m▁\u001b[39m▁\u001b[39m▁\u001b[39m▁\u001b[39m▁\u001b[39m▁\u001b[39m▁\u001b[39m▁\u001b[39m \u001b[39m▄\n",
       "  1.47 μs\u001b[90m        Histogram: frequency by time\u001b[39m        1.61 μs \u001b[0m\u001b[1m<\u001b[22m\n",
       "\n",
       " Memory estimate\u001b[90m: \u001b[39m\u001b[33m112 bytes\u001b[39m, allocs estimate\u001b[90m: \u001b[39m\u001b[33m3\u001b[39m."
      ]
     },
     "metadata": {},
     "output_type": "display_data"
    }
   ],
   "source": [
    "@benchmark c .= 2 .* a .+ b .* 1.2"
   ]
  },
  {
   "cell_type": "markdown",
   "metadata": {},
   "source": [
    "En particulier, observez la mémoire allouée et le temps moyen requis pour performer la ligne d'instruction.\n",
    "La mémoire nécessaire varie en fonction du nombre et du type d'opération effectué.\n",
    "Parmis les opérations allouant le moins de mémoire, on retrouve:"
   ]
  },
  {
   "cell_type": "code",
   "execution_count": 42,
   "metadata": {},
   "outputs": [
    {
     "data": {
      "text/plain": [
       "BenchmarkTools.Trial: 10000 samples with 194 evaluations.\n",
       " Range \u001b[90m(\u001b[39m\u001b[36m\u001b[1mmin\u001b[22m\u001b[39m … \u001b[35mmax\u001b[39m\u001b[90m):  \u001b[39m\u001b[36m\u001b[1m499.918 ns\u001b[22m\u001b[39m … \u001b[35m585.289 ns\u001b[39m  \u001b[90m┊\u001b[39m GC \u001b[90m(\u001b[39mmin … max\u001b[90m): \u001b[39m0.00% … 0.00%\n",
       " Time  \u001b[90m(\u001b[39m\u001b[34m\u001b[1mmedian\u001b[22m\u001b[39m\u001b[90m):     \u001b[39m\u001b[34m\u001b[1m504.768 ns               \u001b[22m\u001b[39m\u001b[90m┊\u001b[39m GC \u001b[90m(\u001b[39mmedian\u001b[90m):    \u001b[39m0.00%\n",
       " Time  \u001b[90m(\u001b[39m\u001b[32m\u001b[1mmean\u001b[22m\u001b[39m ± \u001b[32mσ\u001b[39m\u001b[90m):   \u001b[39m\u001b[32m\u001b[1m506.283 ns\u001b[22m\u001b[39m ± \u001b[32m  6.165 ns\u001b[39m  \u001b[90m┊\u001b[39m GC \u001b[90m(\u001b[39mmean ± σ\u001b[90m):  \u001b[39m0.00% ± 0.00%\n",
       "\n",
       "  \u001b[39m \u001b[39m \u001b[39m▃\u001b[39m▅\u001b[39m▇\u001b[39m▇\u001b[39m█\u001b[39m▇\u001b[39m▇\u001b[39m█\u001b[34m█\u001b[39m\u001b[39m█\u001b[39m▇\u001b[32m▆\u001b[39m\u001b[39m▄\u001b[39m▃\u001b[39m▂\u001b[39m▁\u001b[39m▁\u001b[39m▁\u001b[39m▂\u001b[39m▁\u001b[39m▁\u001b[39m \u001b[39m▁\u001b[39m▁\u001b[39m▁\u001b[39m \u001b[39m▁\u001b[39m▁\u001b[39m▁\u001b[39m▁\u001b[39m▁\u001b[39m▁\u001b[39m▁\u001b[39m▁\u001b[39m▁\u001b[39m▁\u001b[39m \u001b[39m \u001b[39m▁\u001b[39m▁\u001b[39m \u001b[39m \u001b[39m \u001b[39m \u001b[39m \u001b[39m \u001b[39m \u001b[39m \u001b[39m \u001b[39m▁\u001b[39m \u001b[39m \u001b[39m▁\u001b[39m \u001b[39m \u001b[39m \u001b[39m \u001b[39m \u001b[39m \u001b[39m \u001b[39m▃\n",
       "  \u001b[39m▆\u001b[39m▇\u001b[39m█\u001b[39m█\u001b[39m█\u001b[39m█\u001b[39m█\u001b[39m█\u001b[39m█\u001b[39m█\u001b[34m█\u001b[39m\u001b[39m█\u001b[39m█\u001b[32m█\u001b[39m\u001b[39m█\u001b[39m█\u001b[39m█\u001b[39m█\u001b[39m█\u001b[39m█\u001b[39m█\u001b[39m█\u001b[39m█\u001b[39m█\u001b[39m█\u001b[39m█\u001b[39m█\u001b[39m█\u001b[39m█\u001b[39m█\u001b[39m█\u001b[39m█\u001b[39m█\u001b[39m█\u001b[39m█\u001b[39m█\u001b[39m█\u001b[39m█\u001b[39m█\u001b[39m█\u001b[39m█\u001b[39m█\u001b[39m█\u001b[39m▇\u001b[39m▇\u001b[39m▃\u001b[39m▅\u001b[39m▆\u001b[39m▆\u001b[39m▇\u001b[39m█\u001b[39m█\u001b[39m█\u001b[39m█\u001b[39m█\u001b[39m█\u001b[39m▇\u001b[39m▅\u001b[39m▄\u001b[39m▇\u001b[39m▅\u001b[39m \u001b[39m█\n",
       "  500 ns\u001b[90m        \u001b[39m\u001b[90mHistogram: \u001b[39m\u001b[90m\u001b[1mlog(\u001b[22m\u001b[39m\u001b[90mfrequency\u001b[39m\u001b[90m\u001b[1m)\u001b[22m\u001b[39m\u001b[90m by time\u001b[39m        530 ns \u001b[0m\u001b[1m<\u001b[22m\n",
       "\n",
       " Memory estimate\u001b[90m: \u001b[39m\u001b[33m0 bytes\u001b[39m, allocs estimate\u001b[90m: \u001b[39m\u001b[33m0\u001b[39m."
      ]
     },
     "metadata": {},
     "output_type": "display_data"
    }
   ],
   "source": [
    "@benchmark c .= 0"
   ]
  },
  {
   "cell_type": "markdown",
   "metadata": {},
   "source": [
    "Pour manipuler plus finement la mémoire au cours de votre implémentation, vous pouvez utilisez des fonctions de `LinearAlgebra`"
   ]
  },
  {
   "cell_type": "code",
   "execution_count": null,
   "metadata": {},
   "outputs": [],
   "source": [
    "? axpy!\n",
    "? axpby!"
   ]
  },
  {
   "cell_type": "markdown",
   "metadata": {},
   "source": [
    "qui sont des routines `BLAS`.\n",
    "Faites attention, ces routines ont des effets de bord sur les structures de données `y`.\n",
    "Dès lors, l'utilisation de `@benchmark` accumule successivement les effets de bord, d'où l'utilisation des tests avant `@benchmark`."
   ]
  },
  {
   "cell_type": "code",
   "execution_count": 43,
   "metadata": {},
   "outputs": [
    {
     "name": "stdout",
     "output_type": "stream",
     "text": [
      "y == a * x = true\n"
     ]
    },
    {
     "data": {
      "text/plain": [
       "BenchmarkTools.Trial: 10000 samples with 26 evaluations.\n",
       " Range \u001b[90m(\u001b[39m\u001b[36m\u001b[1mmin\u001b[22m\u001b[39m … \u001b[35mmax\u001b[39m\u001b[90m):  \u001b[39m\u001b[36m\u001b[1m943.692 ns\u001b[22m\u001b[39m … \u001b[35m 1.551 μs\u001b[39m  \u001b[90m┊\u001b[39m GC \u001b[90m(\u001b[39mmin … max\u001b[90m): \u001b[39m0.00% … 0.00%\n",
       " Time  \u001b[90m(\u001b[39m\u001b[34m\u001b[1mmedian\u001b[22m\u001b[39m\u001b[90m):     \u001b[39m\u001b[34m\u001b[1m954.500 ns              \u001b[22m\u001b[39m\u001b[90m┊\u001b[39m GC \u001b[90m(\u001b[39mmedian\u001b[90m):    \u001b[39m0.00%\n",
       " Time  \u001b[90m(\u001b[39m\u001b[32m\u001b[1mmean\u001b[22m\u001b[39m ± \u001b[32mσ\u001b[39m\u001b[90m):   \u001b[39m\u001b[32m\u001b[1m961.510 ns\u001b[22m\u001b[39m ± \u001b[32m22.955 ns\u001b[39m  \u001b[90m┊\u001b[39m GC \u001b[90m(\u001b[39mmean ± σ\u001b[90m):  \u001b[39m0.00% ± 0.00%\n",
       "\n",
       "  \u001b[39m \u001b[39m \u001b[39m█\u001b[39m \u001b[39m▇\u001b[34m \u001b[39m\u001b[39m \u001b[39m \u001b[32m \u001b[39m\u001b[39m \u001b[39m \u001b[39m \u001b[39m \u001b[39m \u001b[39m \u001b[39m \u001b[39m \u001b[39m \u001b[39m \u001b[39m \u001b[39m \u001b[39m \u001b[39m \u001b[39m \u001b[39m \u001b[39m \u001b[39m \u001b[39m \u001b[39m \u001b[39m \u001b[39m \u001b[39m \u001b[39m \u001b[39m \u001b[39m \u001b[39m \u001b[39m \u001b[39m \u001b[39m \u001b[39m \u001b[39m \u001b[39m \u001b[39m \u001b[39m \u001b[39m \u001b[39m \u001b[39m \u001b[39m \u001b[39m \u001b[39m \u001b[39m \u001b[39m \u001b[39m \u001b[39m \u001b[39m \u001b[39m \u001b[39m \u001b[39m \u001b[39m \u001b[39m \u001b[39m \u001b[39m \n",
       "  \u001b[39m▅\u001b[39m▂\u001b[39m█\u001b[39m▆\u001b[39m█\u001b[34m▄\u001b[39m\u001b[39m▆\u001b[39m▃\u001b[32m▅\u001b[39m\u001b[39m▃\u001b[39m▅\u001b[39m▄\u001b[39m▄\u001b[39m▅\u001b[39m▃\u001b[39m▅\u001b[39m▂\u001b[39m▅\u001b[39m▂\u001b[39m▃\u001b[39m▂\u001b[39m▂\u001b[39m▂\u001b[39m▂\u001b[39m▁\u001b[39m▂\u001b[39m▂\u001b[39m▂\u001b[39m▂\u001b[39m▁\u001b[39m▂\u001b[39m▂\u001b[39m▂\u001b[39m▂\u001b[39m▂\u001b[39m▁\u001b[39m▂\u001b[39m▂\u001b[39m▁\u001b[39m▂\u001b[39m▂\u001b[39m▁\u001b[39m▂\u001b[39m▂\u001b[39m▁\u001b[39m▂\u001b[39m▂\u001b[39m▂\u001b[39m▂\u001b[39m▂\u001b[39m▂\u001b[39m▂\u001b[39m▂\u001b[39m▂\u001b[39m▂\u001b[39m▂\u001b[39m▂\u001b[39m▂\u001b[39m▂\u001b[39m▂\u001b[39m \u001b[39m▃\n",
       "  944 ns\u001b[90m          Histogram: frequency by time\u001b[39m         1.07 μs \u001b[0m\u001b[1m<\u001b[22m\n",
       "\n",
       " Memory estimate\u001b[90m: \u001b[39m\u001b[33m0 bytes\u001b[39m, allocs estimate\u001b[90m: \u001b[39m\u001b[33m0\u001b[39m."
      ]
     },
     "metadata": {},
     "output_type": "display_data"
    }
   ],
   "source": [
    "y = zeros(n)\n",
    "x = ones(n)\n",
    "a = 2\n",
    "axpy!(a, x, y)\n",
    "@show y == a * x\n",
    "\n",
    "@benchmark axpy!(a, x, y)"
   ]
  },
  {
   "cell_type": "code",
   "execution_count": 44,
   "metadata": {},
   "outputs": [
    {
     "name": "stdout",
     "output_type": "stream",
     "text": [
      "y == a * ones(n) + b * π * ones(n) = true\n"
     ]
    },
    {
     "data": {
      "text/plain": [
       "BenchmarkTools.Trial: 10000 samples with 9 evaluations.\n",
       " Range \u001b[90m(\u001b[39m\u001b[36m\u001b[1mmin\u001b[22m\u001b[39m … \u001b[35mmax\u001b[39m\u001b[90m):  \u001b[39m\u001b[36m\u001b[1m2.220 μs\u001b[22m\u001b[39m … \u001b[35m 3.296 μs\u001b[39m  \u001b[90m┊\u001b[39m GC \u001b[90m(\u001b[39mmin … max\u001b[90m): \u001b[39m0.00% … 0.00%\n",
       " Time  \u001b[90m(\u001b[39m\u001b[34m\u001b[1mmedian\u001b[22m\u001b[39m\u001b[90m):     \u001b[39m\u001b[34m\u001b[1m2.294 μs              \u001b[22m\u001b[39m\u001b[90m┊\u001b[39m GC \u001b[90m(\u001b[39mmedian\u001b[90m):    \u001b[39m0.00%\n",
       " Time  \u001b[90m(\u001b[39m\u001b[32m\u001b[1mmean\u001b[22m\u001b[39m ± \u001b[32mσ\u001b[39m\u001b[90m):   \u001b[39m\u001b[32m\u001b[1m2.299 μs\u001b[22m\u001b[39m ± \u001b[32m51.397 ns\u001b[39m  \u001b[90m┊\u001b[39m GC \u001b[90m(\u001b[39mmean ± σ\u001b[90m):  \u001b[39m0.00% ± 0.00%\n",
       "\n",
       "  \u001b[39m \u001b[39m \u001b[39m \u001b[39m \u001b[39m \u001b[39m \u001b[39m \u001b[39m \u001b[39m▆\u001b[39m▂\u001b[39m \u001b[39m▅\u001b[39m \u001b[39m█\u001b[39m \u001b[34m█\u001b[39m\u001b[32m \u001b[39m\u001b[39m▇\u001b[39m \u001b[39m▂\u001b[39m \u001b[39m \u001b[39m▄\u001b[39m \u001b[39m▄\u001b[39m \u001b[39m \u001b[39m \u001b[39m \u001b[39m \u001b[39m \u001b[39m \u001b[39m \u001b[39m \u001b[39m \u001b[39m \u001b[39m \u001b[39m \u001b[39m \u001b[39m \u001b[39m \u001b[39m \u001b[39m \u001b[39m \u001b[39m \u001b[39m \u001b[39m \u001b[39m \u001b[39m \u001b[39m \u001b[39m \u001b[39m \u001b[39m \u001b[39m \u001b[39m \u001b[39m \u001b[39m \u001b[39m \u001b[39m \u001b[39m \n",
       "  \u001b[39m▄\u001b[39m▁\u001b[39m▂\u001b[39m▂\u001b[39m▁\u001b[39m▁\u001b[39m█\u001b[39m▄\u001b[39m█\u001b[39m█\u001b[39m█\u001b[39m█\u001b[39m▄\u001b[39m█\u001b[39m▂\u001b[34m█\u001b[39m\u001b[32m▂\u001b[39m\u001b[39m█\u001b[39m▂\u001b[39m█\u001b[39m█\u001b[39m▃\u001b[39m█\u001b[39m▂\u001b[39m█\u001b[39m▂\u001b[39m▅\u001b[39m▃\u001b[39m▂\u001b[39m▃\u001b[39m▂\u001b[39m▂\u001b[39m▂\u001b[39m▂\u001b[39m▁\u001b[39m▂\u001b[39m▂\u001b[39m▂\u001b[39m▁\u001b[39m▂\u001b[39m▁\u001b[39m▁\u001b[39m▂\u001b[39m▁\u001b[39m▂\u001b[39m▁\u001b[39m▂\u001b[39m▂\u001b[39m▂\u001b[39m▂\u001b[39m▁\u001b[39m▂\u001b[39m▂\u001b[39m▁\u001b[39m▁\u001b[39m▂\u001b[39m▂\u001b[39m▂\u001b[39m \u001b[39m▃\n",
       "  2.22 μs\u001b[90m        Histogram: frequency by time\u001b[39m         2.5 μs \u001b[0m\u001b[1m<\u001b[22m\n",
       "\n",
       " Memory estimate\u001b[90m: \u001b[39m\u001b[33m0 bytes\u001b[39m, allocs estimate\u001b[90m: \u001b[39m\u001b[33m0\u001b[39m."
      ]
     },
     "metadata": {},
     "output_type": "display_data"
    }
   ],
   "source": [
    "y = π * ones(n)\n",
    "x = ones(n)\n",
    "a = 2\n",
    "b = 3\n",
    "axpby!(a, x, b, y)\n",
    "@show y == a * ones(n) + b * π * ones(n)\n",
    "\n",
    "@benchmark axpby!(a, x, b, y)"
   ]
  },
  {
   "cell_type": "markdown",
   "metadata": {},
   "source": [
    "Cela fontionne aussi pour les matrices"
   ]
  },
  {
   "cell_type": "code",
   "execution_count": 45,
   "metadata": {},
   "outputs": [
    {
     "name": "stdout",
     "output_type": "stream",
     "text": [
      "y == a * ones(n, n) + b * π * ones(n, n) = true\n"
     ]
    },
    {
     "data": {
      "text/plain": [
       "BenchmarkTools.Trial: 113 samples with 1 evaluation.\n",
       " Range \u001b[90m(\u001b[39m\u001b[36m\u001b[1mmin\u001b[22m\u001b[39m … \u001b[35mmax\u001b[39m\u001b[90m):  \u001b[39m\u001b[36m\u001b[1m44.266 ms\u001b[22m\u001b[39m … \u001b[35m 45.147 ms\u001b[39m  \u001b[90m┊\u001b[39m GC \u001b[90m(\u001b[39mmin … max\u001b[90m): \u001b[39m0.00% … 0.00%\n",
       " Time  \u001b[90m(\u001b[39m\u001b[34m\u001b[1mmedian\u001b[22m\u001b[39m\u001b[90m):     \u001b[39m\u001b[34m\u001b[1m44.583 ms               \u001b[22m\u001b[39m\u001b[90m┊\u001b[39m GC \u001b[90m(\u001b[39mmedian\u001b[90m):    \u001b[39m0.00%\n",
       " Time  \u001b[90m(\u001b[39m\u001b[32m\u001b[1mmean\u001b[22m\u001b[39m ± \u001b[32mσ\u001b[39m\u001b[90m):   \u001b[39m\u001b[32m\u001b[1m44.578 ms\u001b[22m\u001b[39m ± \u001b[32m147.997 μs\u001b[39m  \u001b[90m┊\u001b[39m GC \u001b[90m(\u001b[39mmean ± σ\u001b[90m):  \u001b[39m0.00% ± 0.00%\n",
       "\n",
       "  \u001b[39m \u001b[39m \u001b[39m \u001b[39m \u001b[39m \u001b[39m \u001b[39m \u001b[39m \u001b[39m \u001b[39m \u001b[39m \u001b[39m \u001b[39m \u001b[39m \u001b[39m \u001b[39m \u001b[39m▄\u001b[39m \u001b[39m \u001b[39m▂\u001b[39m \u001b[39m▂\u001b[39m▂\u001b[39m▄\u001b[39m▂\u001b[39m \u001b[39m \u001b[39m \u001b[39m \u001b[34m▆\u001b[39m\u001b[39m \u001b[39m \u001b[39m \u001b[39m▂\u001b[39m█\u001b[39m \u001b[39m▂\u001b[39m \u001b[39m \u001b[39m \u001b[39m \u001b[39m \u001b[39m \u001b[39m \u001b[39m \u001b[39m \u001b[39m \u001b[39m \u001b[39m \u001b[39m \u001b[39m \u001b[39m \u001b[39m \u001b[39m \u001b[39m \u001b[39m \u001b[39m \u001b[39m \u001b[39m \u001b[39m \u001b[39m \u001b[39m \n",
       "  \u001b[39m▆\u001b[39m▆\u001b[39m▄\u001b[39m▁\u001b[39m▁\u001b[39m▁\u001b[39m▁\u001b[39m▄\u001b[39m▄\u001b[39m▆\u001b[39m▁\u001b[39m▆\u001b[39m▄\u001b[39m▁\u001b[39m▆\u001b[39m▆\u001b[39m█\u001b[39m▆\u001b[39m█\u001b[39m█\u001b[39m▆\u001b[39m█\u001b[39m█\u001b[39m█\u001b[39m█\u001b[39m▄\u001b[39m▆\u001b[39m▆\u001b[39m▁\u001b[34m█\u001b[39m\u001b[39m█\u001b[39m█\u001b[39m█\u001b[39m█\u001b[39m█\u001b[39m█\u001b[39m█\u001b[39m▄\u001b[39m▆\u001b[39m█\u001b[39m▁\u001b[39m▄\u001b[39m█\u001b[39m▁\u001b[39m▄\u001b[39m▆\u001b[39m█\u001b[39m▄\u001b[39m▄\u001b[39m▆\u001b[39m▄\u001b[39m▁\u001b[39m▄\u001b[39m▄\u001b[39m▁\u001b[39m▁\u001b[39m▄\u001b[39m▁\u001b[39m▁\u001b[39m▄\u001b[39m \u001b[39m▄\n",
       "  44.3 ms\u001b[90m         Histogram: frequency by time\u001b[39m         44.9 ms \u001b[0m\u001b[1m<\u001b[22m\n",
       "\n",
       " Memory estimate\u001b[90m: \u001b[39m\u001b[33m0 bytes\u001b[39m, allocs estimate\u001b[90m: \u001b[39m\u001b[33m0\u001b[39m."
      ]
     },
     "metadata": {},
     "output_type": "display_data"
    }
   ],
   "source": [
    "y = π * ones(n,n)\n",
    "x = ones(n,n)\n",
    "a = 2\n",
    "b = 3\n",
    "axpby!(a, x, b, y)\n",
    "@show y == a * ones(n,n) + b * π * ones(n,n)\n",
    "\n",
    "@benchmark axpby!(a, x, b, y)"
   ]
  }
 ],
 "metadata": {
  "kernelspec": {
   "display_name": "Julia 1.10.0",
   "language": "julia",
   "name": "julia-1.10"
  },
  "language_info": {
   "file_extension": ".jl",
   "mimetype": "application/julia",
   "name": "julia",
   "version": "1.10.0"
  }
 },
 "nbformat": 4,
 "nbformat_minor": 4
}
